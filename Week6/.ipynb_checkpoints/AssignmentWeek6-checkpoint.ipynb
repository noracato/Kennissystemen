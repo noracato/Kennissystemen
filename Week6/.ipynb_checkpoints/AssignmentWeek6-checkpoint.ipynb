{
 "cells": [
  {
   "cell_type": "markdown",
   "metadata": {},
   "source": [
    "# Assignment  week 6"
   ]
  },
  {
   "cell_type": "code",
   "execution_count": null,
   "metadata": {
    "collapsed": true
   },
   "outputs": [],
   "source": []
  },
  {
   "cell_type": "markdown",
   "metadata": {},
   "source": [
    "## Notebook made by   (If not filled in correctly: 0 pts for assignment)\n",
    "\n",
    "__Name(s)__: Maarten Boon & Nora Schinkel\n",
    "\n",
    "__Student id(s)__ : 10764399 & 1046730\n",
    "\n",
    "### Pledge (taken from [Coursera's Honor Code](https://www.coursera.org/about/terms/honorcode) )\n",
    "\n",
    "\n",
    "\n",
    "Put here a selfie with your photo where you hold a signed paper with the following text: (if this is team work, put two selfies here). The link must be to some place on the web, not to a local file. **Assignments without the selfies will not be graded and receive 0 points.**\n",
    "\n",
    "> My answers to homework, quizzes and exams will be my own work (except for assignments that explicitly permit collaboration).\n",
    "\n",
    ">I will not make solutions to homework, quizzes or exams available to anyone else. This includes both solutions written by me, as well as any official solutions provided by the course staff.\n",
    "\n",
    ">I will not engage in any other activities that will dishonestly improve my results or dishonestly improve/hurt the results of others.\n",
    "\n",
    "<img src='link to your selfie'/>"
   ]
  },
  {
   "cell_type": "markdown",
   "metadata": {},
   "source": [
    "## Questions\n",
    "\n",
    "###  XML Woordenboek lemma (25%)\n",
    "\n",
    "What XML markup would you suggest for the following dictionary extract? Decide a suitable granularity. Thus this extract is the lemma for the word _language_. \n",
    "\n",
    "* HINTS:\n",
    "    * Keep in mind that a dictionary is in a sense a knowledge base with 1000's of these lemmas.\n",
    "    * You thus want uniformity\n",
    "    * Note that this is meant to be read _by humans_. You do not need to store everything that is in this extract.\n",
    "        * some things can be rendered by a stylesheet when a human looks at the extract....\n",
    "\n",
    "```\n",
    "Main Entry: language\n",
    "Pronunciation: ’la[ng]-gwij, -wij\n",
    "Function: noun\n",
    "Etymology: Middle English, from Old French, from langue tongue, language, from Latin\n",
    "lingua - more at TONGUE\n",
    "Date: 14th century\n",
    "1 a : the words, their pronunciation, and the methods of combining them used and understood\n",
    "by a community b (1) : audible, articulate, meaningful sound as produced by the\n",
    "action of the vocal organs (2) : a systematic means of communicating ideas or feelings by\n",
    "the use of conventionalized signs, sounds, gestures, or marks having understood meanings\n",
    "(3) : the suggestion by objects, actions, or conditions of associated ideas or feelings\n",
    "(4) : the means by which animals communicate (5) : a formal system of signs and symbols\n",
    "(as FORTRAN or a calculus in logic) including rules for the formation and transformation\n",
    "of admissible expressions (6) : MACHINE LANGUAGE 1\n",
    "2 a : form or manner of verbal expression; specifically : STYLE b : the vocabulary and\n",
    "phraseology belonging to an art or a department of knowledge c : PROFANITY\n",
    "3 : the study of language especially as a school subject\n",
    "```\n",
    "\n",
    "1. Check that your markup is well-formed. (for instance with the linux command `xmllint`). \n",
    "2. Use `beautifulsoup` to pretty-print your XML.\n",
    "3. Describe why you choose to use attributes and why you choose to use children.\n",
    "\n",
    "\n",
    "### Wikipedia categories (75%)\n",
    " \n",
    "* [Opdracht in notebook](WikipediaCategoriesAssignment.ipynb)"
   ]
  },
  {
   "cell_type": "markdown",
   "metadata": {},
   "source": [
    "# Mijn antwoorden"
   ]
  },
  {
   "cell_type": "markdown",
   "metadata": {
    "collapsed": true
   },
   "source": [
    "## XML Woordenboek lemma\n"
   ]
  },
  {
   "cell_type": "code",
   "execution_count": 45,
   "metadata": {
    "collapsed": false
   },
   "outputs": [
    {
     "name": "stdout",
     "output_type": "stream",
     "text": [
      "The word language , pronounced as ’la[ng]-gwij, -wij is a noun and was first recorded in 14th century\n",
      "\n",
      " Etymologies:\n",
      "the word lingua  originates from the latin language\n",
      "which transformed into  langue tongue in old french\n",
      "which transformed into  language  in middle english\n",
      "\n",
      " explanation:\n",
      " the words, their pronunciation, and the methods of combining them used and understood by a community \n",
      " audible, articulate, meaningful sound as produced by the action of the vocal organs \n",
      " a systematic means of communicating ideas or feelings by the use of conventionalized signs, sounds, gestures, or marks having understood meanings \n",
      " the suggestion by objects, actions, or conditions of associated ideas or feelings \n",
      "  the means by which animals communicate \n",
      " a formal system of signs and symbols (as FORTRAN or a calculus in logic) including rules for the formation and transformation of admissible expressions \n",
      " MACHINE LANGUAGE 1 \n",
      "\n",
      " explanation:\n",
      " form or manner of verbal expression; specifically : STYLE \n",
      " the vocabulary and phraseology belonging to an art or a department of knowledge \n",
      " POFANITY \n",
      "\n",
      " explanation:\n",
      " the study of language especially as a school subject \n"
     ]
    }
   ],
   "source": [
    "from bs4 import BeautifulSoup\n",
    "import re\n",
    "import json\n",
    "language_xml = \"\"\"<entry word= \"language\" function= \"noun\" pronounciation= \"’la[ng]-gwij, -wij\" date= \"14th century\">\n",
    "    <etymology>\n",
    "        <tongue language= \"latin\">lingua \n",
    "            <tongue language=\"old french\"> langue tongue\n",
    "                 <tongue language=\"middle english\"> language </tongue>\n",
    "            </tongue>\n",
    "        </tongue>\n",
    "    </etymology>\n",
    "    <meanings>\n",
    "        <meaning> \n",
    "            <submeaning> the words, their pronunciation, and the methods of combining them used and understood by a community </submeaning>\n",
    "            <submeaning>\n",
    "                <subsubmeaning> audible, articulate, meaningful sound as produced by the action of the vocal organs </subsubmeaning>\n",
    "                <subsubmeaning> a systematic means of communicating ideas or feelings by the use of conventionalized signs, sounds, gestures, or marks having understood meanings </subsubmeaning>\n",
    "                <subsubmeaning> the suggestion by objects, actions, or conditions of associated ideas or feelings </subsubmeaning>\n",
    "                <subsubmeaning>  the means by which animals communicate </subsubmeaning>\n",
    "                <subsubmeaning> a formal system of signs and symbols (as <ref>FORTRAN</ref> or a calculus in logic) including rules for the formation and transformation of admissible expressions </subsubmeaning>\n",
    "                <subsubmeaning> <ref>MACHINE LANGUAGE 1</ref> </subsubmeaning>\n",
    "            </submeaning>\n",
    "        </meaning>\n",
    "        <meaning>\n",
    "            <submeaning> form or manner of verbal expression; specifically : <ref>STYLE</ref> </submeaning>\n",
    "            <submeaning> the vocabulary and phraseology belonging to an art or a department of knowledge </submeaning>\n",
    "            <submeaning> <ref>POFANITY</ref> </submeaning>\n",
    "        </meaning>\n",
    "        <meaning> the study of language especially as a school subject </meaning>\n",
    "    </meanings>            \n",
    "</entry>\"\"\"\n",
    "\n",
    "soup = BeautifulSoup(language_xml, \"xml\")\n",
    "attrib_entry = soup.find('entry').attrs #extract things from entry and pretty print it\n",
    "word = attrib_entry['word']\n",
    "pronounc = attrib_entry['pronounciation']\n",
    "date = attrib_entry['date']\n",
    "function = attrib_entry['function']\n",
    "print(\"The word\", word, \", pronounced as\", pronounc ,\"is a\", function, \"and was first recorded in\", date)\n",
    "\n",
    "tongues = soup.find_all('tongue') #pretty print etymology\n",
    "etyms = []\n",
    "print(\"\\n Etymologies:\")\n",
    "for tongue in tongues:\n",
    "    language = tongue['language']\n",
    "    tongue_text = tongue.get_text()\n",
    "    better_text = re.split(r'\\n', tongue_text) #Split in words\n",
    "    etym = better_text[0]\n",
    "    etyms.append([language,etym])\n",
    "\n",
    "tongue = etyms[0] #first tongue\n",
    "language = tongue[0]\n",
    "word = tongue[1]\n",
    "del etyms[0]\n",
    "print(\"the word\", word, \"originates from the\", language, \"language\")\n",
    "for etym in etyms: #loop for pretty print of rest of tongue\n",
    "    tongue = etym\n",
    "    language = tongue[0]\n",
    "    word = tongue[1]\n",
    "    print(\"which transformed into\", word, \"in\", language)\n",
    "\n",
    "meanings = soup.find_all('meaning') #pretty print meanings\n",
    "for meaning in meanings:\n",
    "    print(\"\\n explanation:\")\n",
    "    meaning_text = meaning.get_text()\n",
    "    submeanings = re.split(r'\\n',meaning_text)\n",
    "    filtertext = [lines for lines in submeanings if lines] #remove all empty line\n",
    "    for text in filtertext:\n",
    "        print(text)"
   ]
  },
  {
   "cell_type": "markdown",
   "metadata": {},
   "source": [
    "## Mijn Wikipedia categorie antwoorden\n",
    "\n",
    "* Geef duidelijk in een MarkDown cell aan welke vraag je beantwoord.\n",
    "* Eventuele ode komt dan daarna in executeerbare cellen."
   ]
  },
  {
   "cell_type": "code",
   "execution_count": 18,
   "metadata": {
    "collapsed": false
   },
   "outputs": [
    {
     "name": "stdout",
     "output_type": "stream",
     "text": [
      "b'{\"batchcomplete\":\"\",\"continue\":{\"cmcontinue\":\"page|4c414e474556494e2d44554255532c204c5543450a4c554345204c414e474556494e2d4455425553|47518652\",\"continue\":\"-||\"},\"query\":{\"categorymembers\":[{\"pageid\":22939,\"ns\":0,\"title\":\"Physics\"},{\"pageid\":22688097,\"ns\":0,\"title\":\"Branches of physics\"},{\"pageid\":3445246,\"ns\":0,\"title\":\"Glossary of classical physics\"},{\"pageid\":24489,\"ns\":0,\"title\":\"Outline of physics\"},{\"pageid\":1653925,\"ns\":100,\"title\":\"Portal:Physics\"},{\"pageid\":47755886,\"ns\":0,\"title\":\"Gabriel Aeppli\"},{\"pageid\":151066,\"ns\":0,\"title\":\"Classical physics\"},{\"pageid\":47723069,\"ns\":0,\"title\":\"Epicatalysis\"},{\"pageid\":685311,\"ns\":0,\"title\":\"Experimental physics\"},{\"pageid\":47421257,\"ns\":0,\"title\":\"Paul-Gilbert Langevin\"}]}}'\n"
     ]
    }
   ],
   "source": [
    "import requests\n",
    "\n",
    "physics = requests.get('https://en.wikipedia.org/w/api.php?action=query&list=categorymembers&cmtitle=Category:Physics&format=json')\n",
    "physics = physics.content\n",
    "\n",
    "#all_cat = physics[\"query\"]\n",
    "print(physics)"
   ]
  },
  {
   "cell_type": "code",
   "execution_count": null,
   "metadata": {
    "collapsed": true
   },
   "outputs": [],
   "source": []
  },
  {
   "cell_type": "code",
   "execution_count": null,
   "metadata": {
    "collapsed": true
   },
   "outputs": [],
   "source": []
  },
  {
   "cell_type": "code",
   "execution_count": null,
   "metadata": {
    "collapsed": true
   },
   "outputs": [],
   "source": []
  }
 ],
 "metadata": {
  "kernelspec": {
   "display_name": "Python 3",
   "language": "python",
   "name": "python3"
  },
  "language_info": {
   "codemirror_mode": {
    "name": "ipython",
    "version": 3
   },
   "file_extension": ".py",
   "mimetype": "text/x-python",
   "name": "python",
   "nbconvert_exporter": "python",
   "pygments_lexer": "ipython3",
   "version": "3.4.3"
  }
 },
 "nbformat": 4,
 "nbformat_minor": 0
}
