{
 "cells": [
  {
   "cell_type": "markdown",
   "metadata": {},
   "source": [
    "# Assignment  week 6"
   ]
  },
  {
   "cell_type": "code",
   "execution_count": null,
   "metadata": {
    "collapsed": true
   },
   "outputs": [],
   "source": []
  },
  {
   "cell_type": "markdown",
   "metadata": {},
   "source": [
    "## Notebook made by   (If not filled in correctly: 0 pts for assignment)\n",
    "\n",
    "__Name(s)__: Maarten Boon & Nora Schinkel\n",
    "\n",
    "__Student id(s)__ : 10764399 & 1046730\n",
    "\n",
    "### Pledge (taken from [Coursera's Honor Code](https://www.coursera.org/about/terms/honorcode) )\n",
    "\n",
    "\n",
    "\n",
    "Put here a selfie with your photo where you hold a signed paper with the following text: (if this is team work, put two selfies here). The link must be to some place on the web, not to a local file. **Assignments without the selfies will not be graded and receive 0 points.**\n",
    "\n",
    "> My answers to homework, quizzes and exams will be my own work (except for assignments that explicitly permit collaboration).\n",
    "\n",
    ">I will not make solutions to homework, quizzes or exams available to anyone else. This includes both solutions written by me, as well as any official solutions provided by the course staff.\n",
    "\n",
    ">I will not engage in any other activities that will dishonestly improve my results or dishonestly improve/hurt the results of others.\n",
    "\n",
    "<img src='link to your selfie'/>"
   ]
  },
  {
   "cell_type": "markdown",
   "metadata": {},
   "source": [
    "## Questions\n",
    "\n",
    "###  XML Woordenboek lemma (25%)\n",
    "\n",
    "What XML markup would you suggest for the following dictionary extract? Decide a suitable granularity. Thus this extract is the lemma for the word _language_. \n",
    "\n",
    "* HINTS:\n",
    "    * Keep in mind that a dictionary is in a sense a knowledge base with 1000's of these lemmas.\n",
    "    * You thus want uniformity\n",
    "    * Note that this is meant to be read _by humans_. You do not need to store everything that is in this extract.\n",
    "        * some things can be rendered by a stylesheet when a human looks at the extract....\n",
    "\n",
    "```\n",
    "Main Entry: language\n",
    "Pronunciation: ’la[ng]-gwij, -wij\n",
    "Function: noun\n",
    "Etymology: Middle English, from Old French, from langue tongue, language, from Latin\n",
    "lingua - more at TONGUE\n",
    "Date: 14th century\n",
    "1 a : the words, their pronunciation, and the methods of combining them used and understood\n",
    "by a community b (1) : audible, articulate, meaningful sound as produced by the\n",
    "action of the vocal organs (2) : a systematic means of communicating ideas or feelings by\n",
    "the use of conventionalized signs, sounds, gestures, or marks having understood meanings\n",
    "(3) : the suggestion by objects, actions, or conditions of associated ideas or feelings\n",
    "(4) : the means by which animals communicate (5) : a formal system of signs and symbols\n",
    "(as FORTRAN or a calculus in logic) including rules for the formation and transformation\n",
    "of admissible expressions (6) : MACHINE LANGUAGE 1\n",
    "2 a : form or manner of verbal expression; specifically : STYLE b : the vocabulary and\n",
    "phraseology belonging to an art or a department of knowledge c : PROFANITY\n",
    "3 : the study of language especially as a school subject\n",
    "```\n",
    "\n",
    "1. Check that your markup is well-formed. (for instance with the linux command `xmllint`). \n",
    "2. Use `beautifulsoup` to pretty-print your XML.\n",
    "3. Describe why you choose to use attributes and why you choose to use children.\n",
    "\n",
    "\n",
    "### Wikipedia categories (75%)\n",
    " \n",
    "* [Opdracht in notebook](WikipediaCategoriesAssignment.ipynb)"
   ]
  },
  {
   "cell_type": "markdown",
   "metadata": {},
   "source": [
    "# Mijn antwoorden"
   ]
  },
  {
   "cell_type": "markdown",
   "metadata": {
    "collapsed": true
   },
   "source": [
    "## XML Woordenboek lemma\n"
   ]
  },
  {
   "cell_type": "code",
   "execution_count": null,
   "metadata": {
    "collapsed": true
   },
   "outputs": [],
   "source": [
    "language_xml = \"\"\"<entry word= \"language\" function= \"noun\" pronounciation= \"’la[ng]-gwij, -wij\" date= \"14th century\">\n",
    "    <etymology>\n",
    "        <tongue language= \"latin\">lingua \n",
    "            <tongue> language\n",
    "                <tongue> langue tongue\n",
    "                    <tongue language= \"old french\">\n",
    "                        <tongue language= \"middle english\"></tongue>\n",
    "                    </tongue>\n",
    "                </tongue>\n",
    "            </tongue>\n",
    "        </tongue>\n",
    "    </etymology>\n",
    "    <meanings>\n",
    "        <meaning> \n",
    "            <submeaning> the words, their pronunciation, and the methods of combining them used and understood by a community </submeaning>\n",
    "            <submeaning>\n",
    "                <subsubmeaning> audible, articulate, meaningful sound as produced by the action of the vocal organs </subsubmeaning>\n",
    "                <subsubmeaning> a systematic means of communicating ideas or feelings by the use of conventionalized signs, sounds, gestures, or marks having understood meanings </subsubmeaning>\n",
    "                <subsubmeaning> the suggestion by objects, actions, or conditions of associated ideas or feelings </subsubmeaning>\n",
    "                <subsubmeaning>  the means by which animals communicate </subsubmeaning>\n",
    "                <subsubmeaning> a formal system of signs and symbols (as <ref word= \"FORTRAN\"/> or a calculus in logic) including rules for the formation and transformation of admissible expressions </subsubmeaning>\n",
    "                <subsubmeaning> <ref word= \"MACHINE LANGUAGE 1\"/> </subsubmeaning>\n",
    "            </submeaning>\n",
    "        </meaning>\n",
    "        <meaning>\n",
    "            <submeaning> form or manner of verbal expression; specifically : <ref word= \"STYLE\"/> </submeaning>\n",
    "            <submeaning> the vocabulary and phraseology belonging to an art or a department of knowledge </submeaning>\n",
    "            <submeaning> <ref word= \"PROFANITY\"/> </submeaning>\n",
    "        </meaning>\n",
    "        <meaning>\n",
    "            the study of language especially as a school subject\n",
    "        </meaning>\n",
    "    </meanings>            \n",
    "</entry>\"\"\"\n"
   ]
  },
  {
   "cell_type": "markdown",
   "metadata": {},
   "source": [
    "## Mijn Wikipedia categorie antwoorden\n",
    "\n",
    "* Geef duidelijk in een MarkDown cell aan welke vraag je beantwoord.\n",
    "* Eventuele ode komt dan daarna in executeerbare cellen."
   ]
  },
  {
   "cell_type": "code",
   "execution_count": null,
   "metadata": {
    "collapsed": true
   },
   "outputs": [],
   "source": [
    " "
   ]
  }
 ],
 "metadata": {
  "kernelspec": {
   "display_name": "Python 3",
   "language": "python",
   "name": "python3"
  },
  "language_info": {
   "codemirror_mode": {
    "name": "ipython",
    "version": 3
   },
   "file_extension": ".py",
   "mimetype": "text/x-python",
   "name": "python",
   "nbconvert_exporter": "python",
   "pygments_lexer": "ipython3",
   "version": "3.4.3"
  }
 },
 "nbformat": 4,
 "nbformat_minor": 0
}
