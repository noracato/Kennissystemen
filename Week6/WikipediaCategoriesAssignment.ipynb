{
 "cells": [
  {
   "cell_type": "markdown",
   "metadata": {},
   "source": [
    "# Categories  in NL wikipedia\n",
    "\n",
    "In deze opdracht gaan we een gestructureerde kennisbank maken gebaseerd op de NL wikipedia.\n",
    "\n",
    "We doen 2 dingen\n",
    "\n",
    "1. We maken het netwerk (het is geen boom maar een DAG) van categorieen.\n",
    "2. Voor elke pagina, geven we aan \n",
    "    * onder welke categorieen het _rechtstreeks_ valt\n",
    "     \n",
    "\n",
    "### Categorie-informatie\n",
    "* Voor elke pagina kunnen we de verzameling categorieen die rechtstreeks bij die pagina horen (die dus onder aan de pagina staan) vergelijken met de categorieen die we ook met beghulp van overerving zouden krijgen.\n",
    "    * Staat er bijvoorbeeld vaak redundante informatie op paginas? \n",
    "    * Hoe verhouden het aantal  expliciete en impliciete categorieen zich?\n",
    "    \n",
    " "
   ]
  },
  {
   "cell_type": "markdown",
   "metadata": {},
   "source": [
    "## Categories\n",
    "\n",
    "\n",
    "\n",
    "### Doel\n",
    "* We willen een netwerk van categori&euml;en distelleren uit de NL wikipedia.\n",
    "* Dat bestaat en kunnen we raadplegen via <https://nl.wikipedia.org/wiki/Speciaal:Categorieboom>\n",
    "* Nu willen we die data zelf hebben en in een kennisbank opslaan.\n",
    "\n",
    "#### Hoe kunnen we dat doen?\n",
    "\n",
    "##### Methode 1: extrinsiek\n",
    "1. Download Wikipedia\n",
    "2. Bekijk voor  elke categorie, welke pagina die heeft.\n",
    "3. De _deelverzameling_ relatie is dan de _\"is-bevat-in\"_, of _is-specifieker-dan_ relatie.\n",
    "\n",
    "##### Methode 2: intrinsiek\n",
    "1. Probeer de structuur van de categorieen ergens binnen Wikipedia te vinden.\n",
    "2. Hier is iemand die hetzelfde wilde: <http://stackoverflow.com/questions/12227134/how-to-fetch-category-tree-of-wiki>\n",
    "\n",
    "### Dumps/data\n",
    "* Dumps: <https://dumps.wikimedia.org/nlwiki/20150602/>\n",
    "* API: <https://www.mediawiki.org/wiki/API%3aCategorymembers>\n",
    "* Je bent niet de eerste met deze opdracht ....\n",
    "    * Zoek op het web.\n",
    "    * Bijvoorbeeld: <http://stackoverflow.com/questions/8088226/content-of-infobox-of-wikipedia/21107068#21107068>\n",
    "    * Zie ook <https://www.mediawiki.org/wiki/Alternative_parsers> voor nog meer mediawiki parsers\n"
   ]
  },
  {
   "cell_type": "markdown",
   "metadata": {},
   "source": [
    "# Opdrachten\n",
    "\n",
    "## Categorieen DAG\n",
    "\n",
    "### Download en representeer. 30%\n",
    "1. Verzin een datastructuur voor de categorieen DAG. Haal de NL wikipedia categorie structuur binnen, en sla die op in je datastructuur.\n",
    "\n",
    "### Analyseer 30%\n",
    "1. Hoeveel unieke categorieen zijn er?\n",
    "1. Hoe diep is de DAG? Wat is het langste pad van de root naar een blad, en wat is het kortste?\n",
    "2. Maak plotjes waarin je voor elk getal `n` aangeeft hoeveel categorieen er zijn met \n",
    "    1.  `n` directe ouders\n",
    "    2. `n` voorouders (let op, je werkt in een DAG, niet in een boom)\n",
    "    3. exact `n` kinderen.\n",
    "3. Welke categorie heeft de meeste kinderen?\n",
    "4. Welke de meeste \"nakomelingen\"?\n",
    "\n",
    "## Categorieen en paginas 30%\n",
    "1. Bepaal voor elke Wikipedia pagina tot welke categorieen die rechtstreeks behoort, en tot welke categorieen die behoort dmv overerving.\n",
    "    * Kies een slimme manier om dit te representeren.\n",
    "1. Bepaal voor elke Wikipedia pagina, hoeveel van de expliciet genoemde categorieen, ook via overerving hadden kunnen worden afgeleid.\n",
    "    * Wat is het gemiddelde per pagina?\n",
    "    \n",
    "## Reflecteer 10%\n",
    "Beschrijf in een aantal punten wat er makkelijk was en wat lastig was aan de opdracht. \n",
    "Geef goed weer wat voor technieken en mogelijkheden je hebt gebruikt."
   ]
  },
  {
   "cell_type": "markdown",
   "metadata": {},
   "source": [
    "# Wat probeersels  (negeer dit gerust)"
   ]
  },
  {
   "cell_type": "code",
   "execution_count": 2,
   "metadata": {
    "collapsed": false
   },
   "outputs": [
    {
     "name": "stdout",
     "output_type": "stream",
     "text": [
      "/Users/admin/Documents/work/onderwijs/teaching/KennisSystemen/Assignments/NLWikipedia\n"
     ]
    }
   ],
   "source": [
    "#!mkdir NLWikipedia\n",
    "%cd NLWikipedia/"
   ]
  },
  {
   "cell_type": "markdown",
   "metadata": {},
   "source": [
    "## Category tabel"
   ]
  },
  {
   "cell_type": "code",
   "execution_count": 10,
   "metadata": {
    "collapsed": false
   },
   "outputs": [
    {
     "name": "stdout",
     "output_type": "stream",
     "text": [
      "gzip: can't stat: nlwiki-20150602-category.sql (nlwiki-20150602-category.sql): No such file or directory\r\n"
     ]
    }
   ],
   "source": [
    "#! wget --no-check-certificate https://dumps.wikimedia.org/nlwiki/20150602/nlwiki-20150602-category.sql.gz\n",
    "#!gunzip nlwiki-20150602-category.sql.gz\n",
    "#!head -100 nlwiki-20150602-category.sql\n",
    "!gzip nlwiki-20150602-category.sql"
   ]
  },
  {
   "cell_type": "markdown",
   "metadata": {},
   "source": [
    "## mmm\n",
    "\n",
    "* Aan bovenstaande file heb je niet veel, want je krijgt de categorie structuur niet! \n",
    "* Kijk maar naar het tabelformaat en de voorbeelden:\n",
    "\n",
    "```\n",
    "CREATE TABLE `category` (\n",
    "  `cat_id` int(10) unsigned NOT NULL AUTO_INCREMENT,\n",
    "  `cat_title` varbinary(255) NOT NULL DEFAULT '',\n",
    "  `cat_pages` int(11) NOT NULL DEFAULT '0',\n",
    "  `cat_subcats` int(11) NOT NULL DEFAULT '0',\n",
    "  `cat_files` int(11) NOT NULL DEFAULT '0',\n",
    "  PRIMARY KEY (`cat_id`),\n",
    "  UNIQUE KEY `cat_title` (`cat_title`),\n",
    "  KEY `cat_pages` (`cat_pages`)\n",
    ") ENGINE=InnoDB AUTO_INCREMENT=14627193 DEFAULT CHARSET=binary;\n",
    "/*!40101 SET character_set_client = @saved_cs_client */;\n",
    "\n",
    "--\n",
    "-- Dumping data for table `category`\n",
    "--\n",
    "\n",
    "/*!40000 ALTER TABLE `category` DISABLE KEYS */;\n",
    "INSERT INTO `category` VALUES (1,'Plaats_in_Portugal',3577,6,0),(2,'Wikipedia:Afbeelding_gewenst',126,7,0),(3,'Spionageroman',16,2,0),(4,'Ridderorde_in_Polen',16,1,0),(5,'Nederlands_kunstenaar',481,24,0),(6,'Nederlands_kunstschilder',2203,5,0),(7,'Wikipedia:Werk_in_uitvoering',17,0,0),(8,'South_Park',17,2,0)\n",
    "```"
   ]
  },
  {
   "cell_type": "markdown",
   "metadata": {},
   "source": [
    "* Als we de tabel vergelijken met bijvoorbeeld <https://nl.wikipedia.org/wiki/Albert_Speer> zien we dat er alleen instaat welke categorien elke pagina bevat.\n",
    "* We hebben nog niet de boom zelf."
   ]
  },
  {
   "cell_type": "code",
   "execution_count": 12,
   "metadata": {
    "collapsed": false
   },
   "outputs": [
    {
     "name": "stdout",
     "output_type": "stream",
     "text": [
      "--2015-07-27 15:19:14--  https://dumps.wikimedia.org/nlwiki/20150602/nlwiki-20150602-pages-articles.xml.bz2\n",
      "Resolving dumps.wikimedia.org... 208.80.154.11, 2620::861:1:208:80:154:11\n",
      "Connecting to dumps.wikimedia.org|208.80.154.11|:443... connected.\n",
      "WARNING: cannot verify dumps.wikimedia.org's certificate, issued by `/C=US/O=GeoTrust Inc./CN=RapidSSL SHA256 CA - G3':\n",
      "  Unable to locally verify the issuer's authority.\n",
      "HTTP request sent, awaiting response... 200 OK\n",
      "Length: 1080732485 (1.0G) [application/octet-stream]\n",
      "Saving to: `nlwiki-20150602-pages-articles.xml.bz2'\n",
      "\n",
      "100%[====================================>] 1,080,732,485 1.21M/s   in 13m 23s \n",
      "\n",
      "2015-07-27 15:32:37 (1.28 MB/s) - `nlwiki-20150602-pages-articles.xml.bz2' saved [1080732485/1080732485]\n",
      "\n"
     ]
    }
   ],
   "source": [
    "# We kunnen ook alle artikelen ophalen.\n",
    "# Dit hier is de grootste: er zijn ook veel kleinere. Begin daar liever mee te werken.\n",
    "\n",
    "!wget --no-check-certificate  https://dumps.wikimedia.org/nlwiki/20150602/nlwiki-20150602-pages-articles.xml.bz2"
   ]
  },
  {
   "cell_type": "code",
   "execution_count": 73,
   "metadata": {
    "collapsed": false
   },
   "outputs": [
    {
     "name": "stdout",
     "output_type": "stream",
     "text": [
      "\r\n",
      "bzcat: I/O or other error, bailing out.  Possible reason follows.\r\n",
      "bzcat: Broken pipe\r\n",
      "\tInput file = nlwiki-20150602-pages-articles.xml.bz2, output file = (stdout)\r\n"
     ]
    }
   ],
   "source": [
    "# This is a huge file, we just want to inspect it now, and so only decompress the first 10.000 lines\n",
    "# Run this in the shell. From here you get an error\n",
    "!bzcat \"nlwiki-20150602-pages-articles.xml.bz2\" |head -10000 > small.xml"
   ]
  },
  {
   "cell_type": "code",
   "execution_count": 5,
   "metadata": {
    "collapsed": false
   },
   "outputs": [
    {
     "name": "stdout",
     "output_type": "stream",
     "text": [
      "<mediawiki xmlns=\"http://www.mediawiki.org/xml/export-0.10/\" xmlns:xsi=\"http://www.w3.org/2001/XMLSchema-instance\" xsi:schemaLocation=\"http://www.mediawiki.org/xml/export-0.10/ http://www.mediawiki.org/xml/export-0.10.xsd\" version=\"0.10\" xml:lang=\"nl\">\r\n",
      "  <siteinfo>\r\n",
      "    <sitename>Wikipedia</sitename>\r\n",
      "    <dbname>nlwiki</dbname>\r\n",
      "    <base>http://nl.wikipedia.org/wiki/Hoofdpagina</base>\r\n",
      "    <generator>MediaWiki 1.26wmf7</generator>\r\n",
      "    <case>first-letter</case>\r\n",
      "    <namespaces>\r\n",
      "      <namespace key=\"-2\" case=\"first-letter\">Media</namespace>\r\n",
      "      <namespace key=\"-1\" case=\"first-letter\">Speciaal</namespace>\r\n",
      "      <namespace key=\"0\" case=\"first-letter\" />\r\n",
      "      <namespace key=\"1\" case=\"first-letter\">Overleg</namespace>\r\n",
      "      <namespace key=\"2\" case=\"first-letter\">Gebruiker</namespace>\r\n",
      "      <namespace key=\"3\" case=\"first-letter\">Overleg gebruiker</namespace>\r\n",
      "      <namespace key=\"4\" case=\"first-letter\">Wikipedia</namespace>\r\n",
      "      <namespace key=\"5\" case=\"first-letter\">Overleg Wikipedia</namespace>\r\n",
      "      <namespace key=\"6\" case=\"first-letter\">Bestand</namespace>\r\n",
      "      <namespace key=\"7\" case=\"first-letter\">Overleg bestand</namespace>\r\n",
      "      <namespace key=\"8\" case=\"first-letter\">MediaWiki</namespace>\r\n",
      "      <namespace key=\"9\" case=\"first-letter\">Overleg MediaWiki</namespace>\r\n",
      "      <namespace key=\"10\" case=\"first-letter\">Sjabloon</namespace>\r\n",
      "      <namespace key=\"11\" case=\"first-letter\">Overleg sjabloon</namespace>\r\n",
      "      <namespace key=\"12\" case=\"first-letter\">Help</namespace>\r\n",
      "      <namespace key=\"13\" case=\"first-letter\">Overleg help</namespace>\r\n",
      "      <namespace key=\"14\" case=\"first-letter\">Categorie</namespace>\r\n",
      "      <namespace key=\"15\" case=\"first-letter\">Overleg categorie</namespace>\r\n",
      "      <namespace key=\"100\" case=\"first-letter\">Portaal</namespace>\r\n",
      "      <namespace key=\"101\" case=\"first-letter\">Overleg portaal</namespace>\r\n",
      "      <namespace key=\"446\" case=\"first-letter\">Onderwijsprogramma</namespace>\r\n",
      "      <namespace key=\"447\" case=\"first-letter\">Overleg onderwijsprogramma</namespace>\r\n",
      "      <namespace key=\"828\" case=\"first-letter\">Module</namespace>\r\n",
      "      <namespace key=\"829\" case=\"first-letter\">Overleg module</namespace>\r\n",
      "    </namespaces>\r\n",
      "  </siteinfo>\r\n",
      "  <page>\r\n",
      "    <title>Albert Speer</title>\r\n",
      "    <ns>0</ns>\r\n",
      "    <id>1</id>\r\n",
      "    <revision>\r\n",
      "      <id>43561437</id>\r\n",
      "      <parentid>43308074</parentid>\r\n",
      "      <timestamp>2015-03-14T18:47:32Z</timestamp>\r\n",
      "      <contributor>\r\n",
      "        <ip>94.210.139.56</ip>\r\n",
      "      </contributor>\r\n",
      "      <model>wikitext</model>\r\n",
      "      <format>text/x-wiki</format>\r\n",
      "      <text xml:space=\"preserve\">{{Zie artikel|Zie [[Albert Speer (junior)|Albert Speer jr.]] voor de zoon van Albert Speer, ook een Duits planoloog.}}\r\n",
      "{{Infobox persoon Tweede Wereldoorlog\r\n",
      "| naam=Albert Speer\r\n",
      "| afbeelding=Albert Speer Neurenberg.JPG\r\n",
      "| onderschrift=Speer op het [[Proces van Neurenberg]] (1945-1946)\r\n",
      "| gbdat=19 maart 1905\r\n",
      "| sterfdat=1 september 1981\r\n",
      "| geslacht=Man\r\n",
      "| gbplaats=Mannheim\r\n",
      "| sterfplaats=Londen\r\n",
      "| zijde=Nazi-Duitsland\r\n",
      "| org=NSDAP\r\n",
      "| spfunc=Minister van Bewapening en Munitie\r\n",
      "| rang=\r\n",
      "}}\r\n",
      "'''Berthold Konrad Hermann Albert Speer''' ([[Mannheim]], [[19 maart]] [[1905]] – [[Londen]], [[1 september]] [[1981]]) was een [[Duitsland|Duits]] [[architect]] en tijdens de [[nationaalsocialisme|nazi-heerschappij]] over Duitsland (1933-1945) achtereenvolgens rijksbouwmeester en minister van bewapening. Door zijn vriendschap met de dictator [[Adolf Hitler]] en zijn ministerschap gold hij als een van de machtigste mannen van het [[nazi-Duitsland|Derde Rijk]].&lt;ref&gt;[http://www.conne-island.de/nf/109/25.html Conne Island - CEE IEH #109, dokumentation: Eine ganz normale Deutsche Familie&lt;!-- Botmatig gegenereerde titel --&gt;]&lt;/ref&gt; In [[processen van Neurenberg|Neurenberg]] werd Speer tot twintig jaar gevangenisstraf veroordeeld. Van zijn zes kinderen is er één, [[Albert Speer (junior)|Albert Speer jr.]] (geboren in [[1934]]), na de oorlog eveneens een bekend architect en stadsplanner geworden.\r\n",
      "\r\n",
      "== Voor 1933 ==\r\n",
      "Het gezin waarin Speer werd geboren, was wat ze in het Duits noemen 'grossbürgerlich'; in Nederlandse termen &quot;gegoede [[burgerij]]&quot; of &quot;bourgeoisie&quot;. Zijn vader en grootvader waren beiden architecten. Om financiële redenen studeerde Speer aanvankelijk in [[Karlsruhe (stad)|Karlsruhe]]. Van de lente van [[1924]] tot de zomer van [[1925]] zette hij zijn studie vervolgens voort aan de technische hogeschool van [[München]]. In de herfst van 1925 verhuisde hij naar [[Berlijn]] en probeerde hij vergeefs aan de [[Technische Universiteit Berlijn|Technische Hogeschool]] in [[Berlin-Charlottenburg|Berlijn-Charlottenburg]] in het seminarie van [[Hans Poelzig]] toegelaten te worden. In [[1926]] ontving [[Heinrich Tessenow]], een architect van de behoudende school met een zeer bescheiden en niet megalomane stijl, een leerstoel. Speer werd in dat jaar één van zijn studenten. Na zijn diploma te hebben behaald in [[1927]] bleef Speer nog meerdere jaren, als Tessenows assistent, aan de hogeschool verbonden.\r\n",
      "\r\n",
      "== In dienst van Hitler ==\r\n",
      "[[Bestand:Bundesarchiv Bild 183-V00555-3, Obersalzberg, Albert Speer, Adolf Hitler.jpg|thumb|260px|Speer en Hitler gebogen over een architectonische tekening.]]\r\n",
      "Speer was niet bijzonder geïnteresseerd in [[politiek]]. Hij werd echter reeds in januari [[1931]] lid van de [[Nationaalsocialistische Duitse Arbeiderspartij|NSDAP]] nadat hij in december [[1930]] een toespraak van Adolf Hitler had bijgewoond in de Berlijnse Hasenheide. Deze toespraak had een diepe indruk gemaakt op Speer. Zelf schreef hij dat hij een maand had getwijfeld, maar dat hij uiteindelijk toch besloten had om lid te worden, omdat Hitler helemaal niet [[stereotiep]] was overgekomen in de toespraak. Het was een zeer rustige toespraak waarin het woord '[[Joden|Jood]]' niet één keer was gevallen.\r\n",
      "\r\n",
      "In [[1932]] verliet Speer Berlijn en ging terug naar Mannheim. Hij vestigde zich daar als architect, maar hij kreeg geen opdrachten.\r\n",
      "In [[1934]] werd hem gevraagd de meivieringen van de partij vorm te geven. Speers originele idee was om rond het veld in [[Neurenberg]] waar de [[parade (militair)|parades]] werden afgenomen een reeks zoeklichten recht omhoog te laten schijnen. Hierdoor ontstond een mooi lichtspel wat een 'koepel van licht' boven het paradeveld veroorzaakte. Hitler was hierover zeer enthousiast en zo werd Speer Hitlers 'huisarchitect'.\r\n",
      "\r\n",
      "Toen Hitlers toenmalige 'Hofarchitekt', de uit München afkomstige [[Paul Ludwig Troost]], in 1934 overleed, nam Speer diens taken over. Speer ontwierp talrijke gebouwen in klassieke stijl, die als doel hadden de pracht en de macht van het Derde Rijk te tonen en te onderstrepen. In het [[Deutsche Arbeitsfront]] (DAF) leidde hij de afdeling 'Schönheit der Arbeit'. Verder werd hij de chef van de onderafdeling van de Rijkspropagandaleiding en verantwoordelijk voor de stedenbouw in de staf van [[Rudolf Hess]].\r\n",
      "\r\n",
      "Voor de [[wereldtentoonstelling van 1937]] in [[Parijs]] ontwierp hij het Duitse paviljoen. Het hoofdbestanddeel bestond uit een enorme toren in classicistische stijl met een grote Duitse adelaar erop. Speer kreeg er de 'Grand Prix' voor de organisatie van de partijdagen van de NSDAP in Neurenberg en de gouden medaille ter beloning voor het paviljoen.\r\n",
      "\r\n",
      "In 1937 werd hij benoemd tot 'regeringscommissaris voor de bouw in de staf van de Führer' en 'inspecteur-generaal voor de bouwnijverheid in Berlijn'. Zijn ontwerpen waren naar de smaak van Hitler die hield van gebouwen in een [[Neoclassicistische architectuur|neoclassicistische stijl]] met een [[Minimalisme (architectuur)|minimalistische]] uitstraling maar dan vergroot tot onmenselijke afmetingen. Voor de spaarzame aankleding wilde Hitler het liefst de klassieke 'Arische' beelden gebruiken die [[Arno Breker]] maakte, een beeldhouwer die bewonderd werd door hem. Vooral voor Berlijn had Hitler grootse plannen. Deze stad zou na de 'Endsieg' herdoopt worden in ''[[Welthauptstadt Germania|Germania]]'' (overigens is Speer de enige bron die dit beweerde) en met talloze pompeuze bouwwerken en brede boulevards wilde Hitler aan zijn hoofdstad een enorme grandeur geven. Hitlers en Speers megalomane motto was ''hoe groter hoe beter''. Er werden voor de [[Tweede Wereldoorlog]] al stabiliteitstesten in de moerassige grond van Berlijn ondernomen om te kijken of deze het enorme gewicht van de geplande gebouwen kon dragen. Tevens werd een begin gemaakt met het aanleggen van de weids opgezette boulevards. In [[1938]] en [[1939]] werd in recordtijd de bouw van de nieuwe [[Rijkskanselarij]] aan de Wilhelmstrasse en de Voßstraße voltooid. Speer toonde zich hier al als een goede bouworganisator. Het bouwwerk met gigantische afmetingen (het geheel mat 200 ha) was voor Hitler een 'representatieve' plaats om de buitenlandse gasten en diplomaten te ontvangen. Zij moesten op deze wijze onder de indruk raken van de grootsheid van het Duitse Rijk. Het merkwaardigste onderdeel van het geheel betrof een lange rechte galerij van 146 m lengte,twee maal groter dan de spiegelzaal in Versailles van 73 meter, met een spiegelgladde vloer die leidde naar de persoonlijke ontvangstruimten van Hitler; deze &quot;straat&quot; werd &quot;der lange Marsch der Diplomaten&quot; genoemd. Sommigen maakten de opmerking dat de gladde vloer eigenlijk wel gevaarlijk was om op te lopen. Hitler wimpelde deze bezwaren weg met de woorden: 'Diplomaten zijn wel gewend om zich op glad ijs te begeven'. Door het uitbreken van de oorlog moesten verdere plannen echter opgeschort worden. Gereed kwamen wel het vliegveld [[Luchthaven Berlin-Tempelhof|Tempelhof]] dat nog steeds een van de grootste luchthavengebouwen ter wereld heeft. Ook het nog steeds gebruikte Olympisch Stadion van 1936 was een onderdeel van de herbouw van Berlijn. Hitlers nieuwe kanselarij werd tijdens de eindstrijd in 1945 zwaar beschadigd en kort na de oorlog afgebroken.\r\n",
      "\r\n"
     ]
    }
   ],
   "source": [
    "!head -80 NLWikipedia/small.xml\n",
    "\n"
   ]
  },
  {
   "cell_type": "markdown",
   "metadata": {},
   "source": [
    "### Extracting information with Beautifulsoup\n",
    "\n",
    "* Dit is een makkelijke Python module om met HTML en XML fies om te gaan.\n",
    "* Hieronder zie je wat voorbeelden\n",
    "\n",
    "### Extracting information with lxml\n",
    "* Dit werkt net wat lastiger maar is wel veel stabieler en kan ook joekels van files aan.\n",
    "* Je hoeft zelfs een file niet eerst te \"ontzippen\", maar kan hem stromend in lxml inlezen.\n",
    "* Dat betekent dat je niet snel geheugen problemen zal hebben: want jij hoeft maar steeds 1 pagina in geheugen te hebben.\n",
    "* Dit is een deel van mijn antwoord:\n",
    "* Je ziet dat je rekening moet houden met de namespaces (dat hoeft in Beautifulsoup niet).\n",
    "* Alles werkt net wat lastiger dan in BeautifulSoup, maar het schaalt wel.\n",
    "\n",
    "```\n",
    "from lxml import etree as et\n",
    "from bz2file import BZ2File\n",
    "\n",
    "def create_page_category_dict(f):\n",
    "    with BZ2File(f) as xml_file:\n",
    "        context = etree.iterparse(xml_file)\n",
    "        \n",
    "        pages_categories_dict={} \n",
    "        for action, elem in context:\n",
    "             if elem.tag== '{http://www.mediawiki.org/xml/export-0.10/}page':\n",
    "                title=  \n",
    "                pagetext=  \n",
    "                cats= find_categories(pagetext) # own function which extract the categories from the text of a page using a regular expression\n",
    "                pages_categories_dict[title]=cats # update the dict\n",
    "        return pages_categories_dict\n",
    "\n",
    "# call it (it took 1 minute on my macbook pro)\n",
    "%time ef= create_page_category_dict('nlwiki-20150602-pages-articles1.xml.bz2')\n",
    "```"
   ]
  },
  {
   "cell_type": "code",
   "execution_count": 6,
   "metadata": {
    "collapsed": false
   },
   "outputs": [],
   "source": [
    "# http://www.crummy.com/software/BeautifulSoup/bs4/doc/\n",
    "from bs4 import BeautifulSoup\n",
    "small= open(\"NLWikipedia/small.xml\")\n",
    "soup = BeautifulSoup(small)"
   ]
  },
  {
   "cell_type": "code",
   "execution_count": 7,
   "metadata": {
    "collapsed": false
   },
   "outputs": [
    {
     "data": {
      "text/plain": [
       "[<title>Albert Speer</title>,\n",
       " <title>Andre Agassi</title>,\n",
       " <title>Groen (partij)</title>,\n",
       " <title>Anthony Fokker</title>,\n",
       " <title>Albert Plesman</title>,\n",
       " <title>Alan Turing</title>,\n",
       " <title>Algoritme</title>,\n",
       " <title>Alpen</title>,\n",
       " <title>Antwerpen (stad)</title>,\n",
       " <title>Astronomie</title>]"
      ]
     },
     "execution_count": 7,
     "metadata": {},
     "output_type": "execute_result"
    }
   ],
   "source": [
    "# list first ten  pages in our small dump\n",
    "soup.findAll('title')[:10]"
   ]
  },
  {
   "cell_type": "code",
   "execution_count": 40,
   "metadata": {
    "collapsed": false
   },
   "outputs": [
    {
     "data": {
      "text/plain": [
       "u'{{Zie artikel|Zie [[Albert Speer (junior)|Albert Speer jr.]] voor de zoon van Albert Speer, ook een Duits planoloog.}}\\n{{Infobox persoon Tweede Wereldoorlog\\n| naam=Albert Speer\\n| afbeelding=Albert Speer Neurenberg.JPG\\n| onderschrift=Speer op het [[Proces van Neurenberg]] (1945-1946)\\n| gbdat=19 maart 1905\\n| sterfdat=1 september 1981\\n| geslacht=Man\\n| gbplaats=Mannheim\\n| sterfplaats=Londen\\n| zijde=Nazi-Duitsland\\n| org=NSDAP\\n| spfunc=Minister van Bewapening en Munitie\\n| rang=\\n}}\\n\\'\\'\\'Berthold Konrad Hermann Albert Speer\\'\\'\\' ([[Mannheim]], [[19 maart]] [[1905]] \\u2013 [[Londen]], [[1 september]] [[1981]]) was een [[Duitsland|Duits]] [[architect]] en tijdens de [[nationaalsocialisme|nazi-heerschappij]] over Duitsland (1933-1945) achtereenvolgens rijksbouwmeester en minister van bewapening. Door zijn vriendschap met de dictator [[Adolf Hitler]] en zijn ministerschap gold hij als een van de machtigste mannen van het [[nazi-Duitsland|Derde Rijk]].<ref>[http://www.conne-island.de/nf/109/25.html Conne Island - CEE IEH #109, dokumentation: Eine ganz normale Deutsche Familie<!-- Botmatig gegenereerde titel -->]</ref> In [[processen van Neurenberg|Neurenberg]] werd Speer tot twintig jaar gevangenisstraf veroordeeld. Van zijn zes kinderen is er \\xe9\\xe9n, [[Albert Speer (junior)|Albert Speer jr.]] (geboren in [[1934]]), na de oorlog eveneens een bekend architect en stadsplanner geworden.\\n\\n== Voor 1933 ==\\nHet gezin waarin Speer werd geboren, was wat ze in het Duits noemen \\'grossb\\xfcrgerlich\\'; in Nederlandse termen \"gegoede [[burgerij]]\" of \"bourgeoisie\". Zijn vader en grootvader waren beiden architecten. Om financi\\xeble redenen studeerde Speer aanvankelijk in [[Karlsruhe (stad)|Karlsruhe]]. Van de lente van [[1924]] tot de zomer van [[1925]] zette hij zijn studie vervolgens voort aan de technische hogeschool van [[M\\xfcnchen]]. In de herfst van 1925 verhuisde hij naar [[Berlijn]] en probeerde hij vergeefs aan de [[Technische Universiteit Berlijn|Technische Hogeschool]] in [[Berlin-Charlottenburg|Berlij'"
      ]
     },
     "execution_count": 40,
     "metadata": {},
     "output_type": "execute_result"
    }
   ],
   "source": [
    "pages= soup.findAll('page')\n",
    "\n",
    "page_infobox_dict = {p.title.text:p.find('text') for p in pages}\n",
    "   \n",
    "speertext=page_infobox_dict['Albert Speer']\n",
    "\n",
    "speertext.text[:2000]"
   ]
  },
  {
   "cell_type": "markdown",
   "metadata": {},
   "source": [
    " \n",
    " \n",
    "\n"
   ]
  },
  {
   "cell_type": "code",
   "execution_count": null,
   "metadata": {
    "collapsed": true
   },
   "outputs": [],
   "source": []
  }
 ],
 "metadata": {
  "kernelspec": {
   "display_name": "Python 2",
   "language": "python",
   "name": "python2"
  },
  "language_info": {
   "codemirror_mode": {
    "name": "ipython",
    "version": 2
   },
   "file_extension": ".py",
   "mimetype": "text/x-python",
   "name": "python",
   "nbconvert_exporter": "python",
   "pygments_lexer": "ipython2",
   "version": "2.7.10"
  }
 },
 "nbformat": 4,
 "nbformat_minor": 0
}
