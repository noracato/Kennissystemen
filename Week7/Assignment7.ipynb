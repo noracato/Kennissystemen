{
 "cells": [
  {
   "cell_type": "markdown",
   "metadata": {},
   "source": [
    "# Assignment  week 7"
   ]
  },
  {
   "cell_type": "markdown",
   "metadata": {},
   "source": [
    "## Notebook made by   (If not filled in correctly: 0 pts for assignment)\n",
    "\n",
    "__Name(s)__: Nora Schinkel & Maarten Boon\n",
    "\n",
    "__Student id(s)__ : 10416730 & 10764399\n",
    "\n",
    "### Pledge (taken from [Coursera's Honor Code](https://www.coursera.org/about/terms/honorcode) )\n",
    "\n",
    "\n",
    "\n",
    "Put here a selfie with your photo where you hold a signed paper with the following text: (if this is team work, put two selfies here). The link must be to some place on the web, not to a local file. **Assignments without the selfies will not be graded and receive 0 points.**\n",
    "\n",
    "> My answers to homework, quizzes and exams will be my own work (except for assignments that explicitly permit collaboration).\n",
    "\n",
    ">I will not make solutions to homework, quizzes or exams available to anyone else. This includes both solutions written by me, as well as any official solutions provided by the course staff.\n",
    "\n",
    ">I will not engage in any other activities that will dishonestly improve my results or dishonestly improve/hurt the results of others.\n",
    "\n",
    "<img src='http://i.imgur.com/9g88in2.jpg%5C'/>\n",
    "<img src='https://raw.githubusercontent.com/noracato/Kennissystemen/master/pledge.jpg'/>"
   ]
  },
  {
   "cell_type": "markdown",
   "metadata": {},
   "source": [
    "# Infoboxes\n",
    "\n",
    "* We willen voor elke Wikipedia pagina de informatie uit de infobox halen en die gestructureerd opslaan.\n",
    "* In het simpele geval is de infobox een lijst van attribuut-waarde paren:\n",
    "    * het zijn attributen van de \"entiteit\" waar de pagina over gaat.\n",
    "    * Dit zijn dus typisch _RDF subject-predicate-object triples_\n",
    "    * Die je in eerste orde logica als een binaire relatie zou opslaan (bijvoorbeeld _DateOfBirth(Albert-Speer,'19 maart 1905')_)\n",
    "* Je zal zien dat hier flink wat haken en ogen aan zitten.\n",
    "    \n",
    "\n",
    "\n",
    "\n",
    "## Inspecteer een voorbeeld\n",
    "\n",
    "* We gaan eens kijken hoe we de attribuut-waarde paren uit de zogenaamde _infoboxen_ uit de Wikipedia paginas kunnen gaan halen.\n",
    "* Vergelijk eens het begin van de file `NLWikipedia/small.xml` met de pagina <https://nl.wikipedia.org/wiki/Albert_Speer>\n",
    "* Die infobox informatie ziet er goed en redelijk eenvoudig te extraheren uit.\n",
    "* Er zijn verschillende _mediawiki_ (het formaat van wikipedia paginas) parsers in omloop. \n",
    "\n",
    "### Je bent niet de eerste met deze opdracht ....\n",
    "\n",
    "* Zoek op het web.\n",
    "* Bijvoorbeeld: <http://stackoverflow.com/questions/8088226/content-of-infobox-of-wikipedia/21107068#21107068>\n",
    "* Zie ook <https://www.mediawiki.org/wiki/Alternative_parsers> voor nog meer mediawiki parsers\n",
    "* Denk ook eens aan <http://pandoc.org/demos.html>\n",
    "* Zie ook [WikipediaInfoBoxes](WikipediaInfoBoxes) is de assignments folder."
   ]
  },
  {
   "cell_type": "markdown",
   "metadata": {},
   "source": [
    "## Vragen\n",
    "\n",
    "## Download, en extraheer.  (33%)\n",
    "* Download de dump met alle NL wikipedia paginas.\n",
    "\n",
    "\n",
    "1. Verzin een goede datastructuur voor de subject-predicate-object triples die je uit de infoboxes per pagina gaat extraheren.\n",
    "1. Schrijf een functie die uit het text element het infobox deel extraheert, en die lijst attribuut-waarde paren omzet naar jouw datastructuur.\n",
    "2. Pas je functie toe op het [voorbeeld](NLWikipedia/sample.xml, en debug je code.\n",
    "\n",
    "### Nou op de hele file/dump\n",
    "1. Zoek uit hoe je een file stromend kunt inlezen in Python.\n",
    "2. Pas nu je code toe op de hele file. \n",
    "3. Misschien  moet je wel  steeds gegevens naar een file gaan wegschrijven. \n",
    "4. Is jouw gekozen data formaat  handig?\n",
    "\n",
    "#### Hints:\n",
    "* Wil niet meteen alles tegelijk. Als er te veel variatie in de data zit, richt je dan op de meest voorkomende gevallen, en probeer die goed te krijgen. \n",
    "* Probeer wel een beeld te krijgen van \"wat je mist\", en beschrijf dat ook. \n",
    "\n",
    "## Analyseer  (33%)\n",
    "\n",
    "1. Maak statistieken, wat zijn de meest gebruikte attributen, hoe vaak worden ze gebruikt, hoeveel attributen zijn er? Welke waardes worden er veel gebruikt? Hoeveel attributen zie je gemiddeld/mediaan per pagina? \n",
    "2. Doe een analyse op de waardes van de attributen? Kan je bepaalde types vinden?\n",
    "3. Doe een analyse op de uniformiteit van de attribuutnamen. Uit de literatuur blijkt dat er erg veel verschillende manieren worden gebruikt om hetzelfde attribuut weer te geven (bijv, sterfdag, sterfdatum, sterftejaar, etc). Is dat ook zo in jouw dataset? Hoe kom je daar eigenlijk achter? \n",
    " \n",
    " \n",
    "## Reflecteer  (33%)\n",
    "* Je hebt nu flink wat tijd besteed aan wat de mensen achter DBpedia, Yago, FreeBase en meer van dit soort initiatieven ook al doen. De bedoeling van de opdracht was om te ervaren wat een klus het is om een kennisbank te vullen met \"gestructureerde\" informatie van het web. \n",
    "* Beschrijf puntsgewijs wat volgens jullie de lastige onderdelen zijn van dit proces.\n",
    "* Licht er 2-3 uit, en vertel hoe jullie het probleem hebben aangepakt."
   ]
  },
  {
   "cell_type": "markdown",
   "metadata": {},
   "source": [
    "# Mijn antwoorden"
   ]
  },
  {
   "cell_type": "code",
   "execution_count": 1,
   "metadata": {
    "collapsed": false,
    "scrolled": false
   },
   "outputs": [],
   "source": [
    "#dict van dicts, {\"page\":{\"Subject\":_sub_, \"Predicate\":_pred_, \"Obj\":_obj_}}???\n",
    "import requests\n",
    "import json\n",
    "import re\n",
    "from bs4 import BeautifulSoup\n",
    "\n",
    "\n",
    "class RDF(object):\n",
    "    def __init__(self, subject, predicate, obj):\n",
    "        self.s = subject\n",
    "        self.p = predicate\n",
    "        self.o = obj\n",
    "\n",
    "def get_name(infobox):\n",
    "    name = infobox[1]\n",
    "    name = re.split('=', name)[1]\n",
    "    return name\n",
    "\n",
    "url = 'http://maartenmarx.nl/teaching/KennisSystemen/Assignments/NLWikipedia/small.xml'\n",
    "r = requests.get(url) \n",
    "content = r.content\n",
    "content = content.decode('UTF-8')\n",
    "soup = BeautifulSoup(content, 'xml')\n",
    "text = soup.get_text()\n",
    "better_text = re.split(r'\\n', text)\n",
    "better_text = re.split('{{', text)\n",
    "\n",
    "all_triples = []\n",
    "for paragraphs in better_text:\n",
    "    if paragraphs.startswith('Info'):\n",
    "        infobox = re.split('}}', paragraphs)[0]\n",
    "        infobox = re.split(r'\\n', infobox)\n",
    "        subject = get_name(infobox)\n",
    "        infobox.pop(0)\n",
    "        infobox.pop(0)\n",
    "        goodinfo = []\n",
    "        for info in infobox:\n",
    "            if not info.endswith('=') and not info.endswith('= ') and not info == '' and info.startswith('|'):\n",
    "                twoparts = re.split('=', info)\n",
    "                predicate = twoparts[0]\n",
    "                predicate = re.split(' ', predicate)[1]\n",
    "                obj = twoparts[1]\n",
    "                triple = RDF(subject, predicate, obj)\n",
    "                all_triples.append(triple)\n",
    "                \n",
    "   \n",
    "        \n"
   ]
  },
  {
   "cell_type": "code",
   "execution_count": null,
   "metadata": {
    "collapsed": false
   },
   "outputs": [],
   "source": [
    "import matplotlib.pyplot as plt\n",
    "\n",
    "#check amount of times attributes are used\n",
    "def analyse (rdflist):\n",
    "    all_attributes = []\n",
    "    for rdf in rdflist:\n",
    "        all_attributes.append(rdf.p)\n",
    "    plot(all_attributes)\n",
    "    \n",
    "def plot(atlist):\n",
    "    x = []\n",
    "    y = []\n",
    "    for atr in atlist:\n",
    "        if atr in x:\n",
    "            y[x.index(atr)] +=1\n",
    "        else:\n",
    "            x.append(atr)\n",
    "            y.append(1)\n",
    "            \n",
    "    for times in y:\n",
    "        if times == 1:\n",
    "            index = y.index(times)\n",
    "            y.pop(index)\n",
    "            x.pop(index)\n",
    "            \n",
    "    plt.bar(range(len(y)), y, color='b', label='Attributes')\n",
    "    plt.xlabel(x)\n",
    "    plt.ylabel('Times used')\n",
    "    plt.legend()\n",
    "    plt.show()\n",
    "\n",
    "analyse(all_triples)"
   ]
  },
  {
   "cell_type": "code",
   "execution_count": 5,
   "metadata": {
    "collapsed": false
   },
   "outputs": [
    {
     "name": "stdout",
     "output_type": "stream",
     "text": [
      "['afbeelding', 'onderschrift', 'gbdat', 'sterfdat', 'geslacht', 'gbplaats', 'sterfplaats', 'zijde', 'org', 'spfunc', 'ATP-id', 'afbeelding', 'bijnaam', 'afbeelding', 'partijvoorzitter', 'vice-partijvoorzitter', 'functienaam1', 'functie1', 'functienaam2', 'functie2', 'functienaam3', 'functie3', 'functienaam4', 'functie4', 'functienaam5', 'functie5', 'zetelnaam1', 'zetels1', 'zetelstotaal1', 'verkiezingen1', 'zetelnaam2', 'zetels2', 'zetelstotaal2', 'verkiezingen2', 'zetelnaam3', 'zetels3', 'zetelstotaal3', 'verkiezingen3', 'zetelnaam4', 'zetels4', 'zetelstotaal4', 'verkiezingen4', 'zetelnaam5', 'zetels5', 'zetelstotaal5', 'verkiezingen5', 'zetelnaam6', 'zetels6', 'zetelstotaal6', 'verkiezingen6', 'zetelnaam7', 'zetels7', 'zetelstotaal7', 'verkiezingen7', 'exnaam', 'afbeelding', 'onderschrift', 'volledigenaam', 'geboortedatum', 'geboorteplaats', 'sterfdatum', 'sterfplaats', 'nationaliteit', 'portaal', 'onderschrift', 'volledigenaam', 'geboortedatum', 'geboorteplaats', 'sterfdatum', 'sterfplaats', 'nationaliteit', 'bekendvan', 'portaal', 'afbeelding', 'onderschrift', 'afbeelding', 'onderschrift', 'volledigenaam', 'geboortedatum', 'geboorteplaats', 'sterfdatum', 'sterfplaats', 'vakgebied', 'kaartnaam', 'hoogste', 'lengte', 'breedte', 'oppervlakte', 'locatie', 'lat_deg', 'lat_min', 'lat_dir', 'lon_deg', 'lon_min', 'lon_dir', 'afbeeldingnaam', 'afbeeldingonderschrift', 'afbeeldingnaam2', 'afbeeldingonderschrift2', 'portaal2', 'naam', 'kaart', 'wapen', 'wapenartikel', 'vlagartikel', 'vlag', 'gewest', 'provincie', 'arrondissement', 'postcode', 'deelgemeente', 'deelgemeentesoort', 'burgemeester', 'bestuur', 'partijen', 'zetels', 'netnummer', 'nis', 'web', 'foto', 'ondertitel', 'extra', 'afbeelding', 'onderschrift', 'geboren', 'overleden', 'functie1', 'volledige', 'pseudoniem', 'geboren', 'afbeelding', 'volledige', 'geboren', 'huidige', 'partij', 'titulatuur', 'tijdvak1', 'functie1', 'tijdvak2', 'functie2', 'tijdvak3', 'functie3', 'tijdvak4', 'functie4', 'tijdvak5', 'functie5', 'tijdvak6', 'functie6', 'tijdvak7', 'functie7', 'website', 'onderschrift', 'naam', 'lengte', 'oorsprong', 'uitmonding', 'stroomtdoor', 'afbeelding2', 'onderschrift2', 'afbeelding3', 'onderschrift3', 'afkorting', 'oprichting', 'startwaarde', 'actuele', 'beurs', 'locatie', 'fondsenaantal', 'soort', 'methode', 'herweging', 'incl.', 'hoofdfondsen', 'website', 'afbeelding', 'onderschrift', 'volledige', 'geboren', 'overleden', 'land', 'functie', 'stroming', 'beïnvloed', 'beïnvloedde', 'wapen', 'naaminlandstaal', 'regeringsvorm', 'locatiekaart', 'talen', 'religie', 'afbeelding', 'locatie', 'km2', 'diepte', 'dieptegem', 'afbeelding2', 'onderschrift2', 'afbeelding', 'onderschrift', 'symbool', 'type', 'overig', 'aantalmanen', 'omtrek', 'diameter', 'vlag', 'wapen', 'locatiekaart', 'talen', 'hoofdstad', 'religie', 'regeringsvorm', 'staatshoofd', 'regeringsleider', 'pctwater', 'munteenheid', 'valutacode', 'tijdzone', 'volkslied', 'feestdag', 'tld', 'landcode', 'tel', 'Voor1', 'Ontstaan', 'CIAkaart', 'portaal', 'vlag', 'vlagartikel', 'wapen', 'wapenartikel', 'locatiekaart', 'talen', 'hoofdstad', 'religie', 'regeringsvorm', 'staatshoofd', 'regeringsleider', 'pctwater', 'munteenheid', 'valutacode', 'tijdzone', 'volkslied', 'levensverwachting', 'levensverwachting', 'feestdag', 'tld', 'landcode', 'tel', 'Ontstaan', 'Voor1', 'Vlag_Voor1', 'CIAkaart', 'paradigma', 'jaar', 'ontwerper', 'beinvloed', 'invloed', 'besturingssysteem', 'website', 'afbeelding', 'caption', 'afbeeldingbreedte', 'DiseasesDB', 'afbeelding', 'onderschrift', 'volledigenaam', 'geboorteplaats', 'geboortedatum', 'sterfplaats', 'sterfdatum', 'nationaliteit', 'bekendvan']\n",
      "[<__main__.RDF object at 0x7f51d083cf28>, <__main__.RDF object at 0x7f51d083ce10>, <__main__.RDF object at 0x7f51d083cf98>, <__main__.RDF object at 0x7f51d083ce48>, <__main__.RDF object at 0x7f51d0b04f98>, <__main__.RDF object at 0x7f51d0b04f60>, <__main__.RDF object at 0x7f51d0b04080>, <__main__.RDF object at 0x7f51d0b04128>, <__main__.RDF object at 0x7f51d0b041d0>, <__main__.RDF object at 0x7f51d0b04208>, <__main__.RDF object at 0x7f51d0b04278>, <__main__.RDF object at 0x7f51d0b042b0>, <__main__.RDF object at 0x7f51d0b04320>, <__main__.RDF object at 0x7f51d0b04390>, <__main__.RDF object at 0x7f51d0b043c8>, <__main__.RDF object at 0x7f51d0b04400>, <__main__.RDF object at 0x7f51d0b04438>, <__main__.RDF object at 0x7f51d0b04470>, <__main__.RDF object at 0x7f51d0b044a8>, <__main__.RDF object at 0x7f51d0b044e0>, <__main__.RDF object at 0x7f51d0b04518>, <__main__.RDF object at 0x7f51d0b04550>, <__main__.RDF object at 0x7f51d0b04588>, <__main__.RDF object at 0x7f51d0b045c0>, <__main__.RDF object at 0x7f51d0b045f8>, <__main__.RDF object at 0x7f51d0b04630>, <__main__.RDF object at 0x7f51d0b04668>, <__main__.RDF object at 0x7f51d0b04710>, <__main__.RDF object at 0x7f51d0b04780>, <__main__.RDF object at 0x7f51d0b047b8>, <__main__.RDF object at 0x7f51d0b047f0>, <__main__.RDF object at 0x7f51d0b04898>, <__main__.RDF object at 0x7f51d0b04908>, <__main__.RDF object at 0x7f51d0b04940>, <__main__.RDF object at 0x7f51d0b04978>, <__main__.RDF object at 0x7f51d0b04a20>, <__main__.RDF object at 0x7f51d0b04a90>, <__main__.RDF object at 0x7f51d0b04ac8>, <__main__.RDF object at 0x7f51d0b04b00>, <__main__.RDF object at 0x7f51d0b04ba8>, <__main__.RDF object at 0x7f51d0b04c18>, <__main__.RDF object at 0x7f51d0b04c50>, <__main__.RDF object at 0x7f51d0b04c88>, <__main__.RDF object at 0x7f51d0b04d30>, <__main__.RDF object at 0x7f51d0b04da0>, <__main__.RDF object at 0x7f51d0b04dd8>, <__main__.RDF object at 0x7f51d0b04e10>, <__main__.RDF object at 0x7f51d0b04eb8>, <__main__.RDF object at 0x7f51d0b04f28>, <__main__.RDF object at 0x7f51d0acbc18>, <__main__.RDF object at 0x7f51d0acbc50>, <__main__.RDF object at 0x7f51d0acbcf8>, <__main__.RDF object at 0x7f51d0acbd68>, <__main__.RDF object at 0x7f51d0acbda0>, <__main__.RDF object at 0x7f51d0acbe10>, <__main__.RDF object at 0x7f51d0acbe48>, <__main__.RDF object at 0x7f51d0acbe80>, <__main__.RDF object at 0x7f51d0acbeb8>, <__main__.RDF object at 0x7f51d0acbef0>, <__main__.RDF object at 0x7f51d0acbf28>, <__main__.RDF object at 0x7f51d0acbf60>, <__main__.RDF object at 0x7f51d0acbf98>, <__main__.RDF object at 0x7f51d0acbfd0>, <__main__.RDF object at 0x7f51d0af3080>, <__main__.RDF object at 0x7f51d0af30b8>, <__main__.RDF object at 0x7f51d0af30f0>, <__main__.RDF object at 0x7f51d0af3128>, <__main__.RDF object at 0x7f51d0af3160>, <__main__.RDF object at 0x7f51d0af3198>, <__main__.RDF object at 0x7f51d0af31d0>, <__main__.RDF object at 0x7f51d0af3208>, <__main__.RDF object at 0x7f51d0af3240>, <__main__.RDF object at 0x7f51d0af32b0>, <__main__.RDF object at 0x7f51d0af3320>, <__main__.RDF object at 0x7f51d0af3358>, <__main__.RDF object at 0x7f51d0af3390>, <__main__.RDF object at 0x7f51d0af33c8>, <__main__.RDF object at 0x7f51d0af3400>, <__main__.RDF object at 0x7f51d0af3438>, <__main__.RDF object at 0x7f51d0af3470>, <__main__.RDF object at 0x7f51d0af34a8>, <__main__.RDF object at 0x7f51d0af34e0>, <__main__.RDF object at 0x7f51d0af3518>, <__main__.RDF object at 0x7f51d0af3550>, <__main__.RDF object at 0x7f51d0af35c0>, <__main__.RDF object at 0x7f51d0af3668>, <__main__.RDF object at 0x7f51d0af36d8>, <__main__.RDF object at 0x7f51d0af3710>, <__main__.RDF object at 0x7f51d0af3780>, <__main__.RDF object at 0x7f51d0af3828>, <__main__.RDF object at 0x7f51d0af38d0>, <__main__.RDF object at 0x7f51d0af3978>, <__main__.RDF object at 0x7f51d0af3a20>, <__main__.RDF object at 0x7f51d0af3ac8>, <__main__.RDF object at 0x7f51d0af3b70>, <__main__.RDF object at 0x7f51d0af3ba8>, <__main__.RDF object at 0x7f51d0af3be0>, <__main__.RDF object at 0x7f51d0af3c18>, <__main__.RDF object at 0x7f51d0af3c50>, <__main__.RDF object at 0x7f51d0af3cc0>, <__main__.RDF object at 0x7f51d0af3d68>, <__main__.RDF object at 0x7f51d0af3dd8>, <__main__.RDF object at 0x7f51d0af3e48>, <__main__.RDF object at 0x7f51d0af3e80>, <__main__.RDF object at 0x7f51d0af3eb8>, <__main__.RDF object at 0x7f51d0af3f28>, <__main__.RDF object at 0x7f51d0af3f98>, <__main__.RDF object at 0x7f51d0af3fd0>, <__main__.RDF object at 0x7f51d0af7048>, <__main__.RDF object at 0x7f51d0af7080>, <__main__.RDF object at 0x7f51d0af70b8>, <__main__.RDF object at 0x7f51d0af70f0>, <__main__.RDF object at 0x7f51d0af7128>, <__main__.RDF object at 0x7f51d0af7198>, <__main__.RDF object at 0x7f51d0af71d0>, <__main__.RDF object at 0x7f51d0af7240>, <__main__.RDF object at 0x7f51d0af72b0>, <__main__.RDF object at 0x7f51d0af7358>, <__main__.RDF object at 0x7f51d0af73c8>, <__main__.RDF object at 0x7f51d0af7438>, <__main__.RDF object at 0x7f51d0af7470>, <__main__.RDF object at 0x7f51d0af74e0>, <__main__.RDF object at 0x7f51d0af7518>, <__main__.RDF object at 0x7f51d0af7550>, <__main__.RDF object at 0x7f51d0af75c0>, <__main__.RDF object at 0x7f51d0af75f8>, <__main__.RDF object at 0x7f51d0af7630>, <__main__.RDF object at 0x7f51d0af7668>, <__main__.RDF object at 0x7f51d0af76a0>, <__main__.RDF object at 0x7f51d0af7710>, <__main__.RDF object at 0x7f51d0af7748>, <__main__.RDF object at 0x7f51d0af7780>, <__main__.RDF object at 0x7f51d0af77f0>, <__main__.RDF object at 0x7f51d0af7860>, <__main__.RDF object at 0x7f51d0af78d0>, <__main__.RDF object at 0x7f51d0af7908>, <__main__.RDF object at 0x7f51d0af7940>, <__main__.RDF object at 0x7f51d0af7978>, <__main__.RDF object at 0x7f51d0af79b0>, <__main__.RDF object at 0x7f51d0af79e8>, <__main__.RDF object at 0x7f51d0af7a20>, <__main__.RDF object at 0x7f51d0af7a58>, <__main__.RDF object at 0x7f51d0af7a90>, <__main__.RDF object at 0x7f51d0af7ac8>, <__main__.RDF object at 0x7f51d0af7b00>, <__main__.RDF object at 0x7f51d0af7b38>, <__main__.RDF object at 0x7f51d0af7b70>, <__main__.RDF object at 0x7f51d0af7ba8>, <__main__.RDF object at 0x7f51d0af7be0>, <__main__.RDF object at 0x7f51d0af7c18>, <__main__.RDF object at 0x7f51d0af7c88>, <__main__.RDF object at 0x7f51d0af7cc0>, <__main__.RDF object at 0x7f51d0af7da0>, <__main__.RDF object at 0x7f51d0af7e10>, <__main__.RDF object at 0x7f51d0af7e48>, <__main__.RDF object at 0x7f51d0af7e80>, <__main__.RDF object at 0x7f51d0af7eb8>, <__main__.RDF object at 0x7f51d0af7ef0>, <__main__.RDF object at 0x7f51d0af7f28>, <__main__.RDF object at 0x7f51d0af7f60>, <__main__.RDF object at 0x7f51d0af7f98>, <__main__.RDF object at 0x7f51d0afc048>, <__main__.RDF object at 0x7f51d0afc080>, <__main__.RDF object at 0x7f51d0afc0b8>, <__main__.RDF object at 0x7f51d0afc160>, <__main__.RDF object at 0x7f51d0afc1d0>, <__main__.RDF object at 0x7f51d0afc240>, <__main__.RDF object at 0x7f51d0afc2b0>, <__main__.RDF object at 0x7f51d0afc320>, <__main__.RDF object at 0x7f51d0afc390>, <__main__.RDF object at 0x7f51d0afc3c8>, <__main__.RDF object at 0x7f51d0afc470>, <__main__.RDF object at 0x7f51d0afc4a8>, <__main__.RDF object at 0x7f51d0afc550>, <__main__.RDF object at 0x7f51d0afc4e0>, <__main__.RDF object at 0x7f51d0afc588>, <__main__.RDF object at 0x7f51d0afc5c0>, <__main__.RDF object at 0x7f51d0afc630>, <__main__.RDF object at 0x7f51d0afc668>, <__main__.RDF object at 0x7f51d0afc6d8>, <__main__.RDF object at 0x7f51d0afc748>, <__main__.RDF object at 0x7f51d0afc780>, <__main__.RDF object at 0x7f51d0afc7b8>, <__main__.RDF object at 0x7f51d0afc7f0>, <__main__.RDF object at 0x7f51d0afc860>, <__main__.RDF object at 0x7f51d0afc898>, <__main__.RDF object at 0x7f51d0afc8d0>, <__main__.RDF object at 0x7f51d0afc908>, <__main__.RDF object at 0x7f51d0afc978>, <__main__.RDF object at 0x7f51d0afca20>, <__main__.RDF object at 0x7f51d0afc9b0>, <__main__.RDF object at 0x7f51d0afca90>, <__main__.RDF object at 0x7f51d0afcb00>, <__main__.RDF object at 0x7f51d0afcba8>, <__main__.RDF object at 0x7f51d0afcc18>, <__main__.RDF object at 0x7f51d0afcc50>, <__main__.RDF object at 0x7f51d0afcc88>, <__main__.RDF object at 0x7f51d0afccf8>, <__main__.RDF object at 0x7f51d0afcd30>, <__main__.RDF object at 0x7f51d0afcda0>, <__main__.RDF object at 0x7f51d0afce10>, <__main__.RDF object at 0x7f51d0afce80>, <__main__.RDF object at 0x7f51d0afcef0>, <__main__.RDF object at 0x7f51d0afcf60>, <__main__.RDF object at 0x7f51d0afcf98>, <__main__.RDF object at 0x7f51d0b07048>, <__main__.RDF object at 0x7f51d0b070b8>, <__main__.RDF object at 0x7f51d0b070f0>, <__main__.RDF object at 0x7f51d0b07160>, <__main__.RDF object at 0x7f51d0b07198>, <__main__.RDF object at 0x7f51d0b07208>, <__main__.RDF object at 0x7f51d0b07240>, <__main__.RDF object at 0x7f51d0b07278>, <__main__.RDF object at 0x7f51d0b072b0>, <__main__.RDF object at 0x7f51d0b07320>, <__main__.RDF object at 0x7f51d0b07358>, <__main__.RDF object at 0x7f51d0b073c8>, <__main__.RDF object at 0x7f51d0b07400>, <__main__.RDF object at 0x7f51d0b07438>, <__main__.RDF object at 0x7f51d0b07470>, <__main__.RDF object at 0x7f51d0b07518>, <__main__.RDF object at 0x7f51d0b07588>, <__main__.RDF object at 0x7f51d0b075f8>, <__main__.RDF object at 0x7f51d0b07668>, <__main__.RDF object at 0x7f51d0b076a0>, <__main__.RDF object at 0x7f51d0b076d8>, <__main__.RDF object at 0x7f51d0b07748>, <__main__.RDF object at 0x7f51d0b077b8>, <__main__.RDF object at 0x7f51d0b077f0>, <__main__.RDF object at 0x7f51d0b07860>, <__main__.RDF object at 0x7f51d0b07898>, <__main__.RDF object at 0x7f51d0b078d0>, <__main__.RDF object at 0x7f51d0b07940>, <__main__.RDF object at 0x7f51d0b07978>, <__main__.RDF object at 0x7f51d0b079e8>, <__main__.RDF object at 0x7f51d0b07a20>, <__main__.RDF object at 0x7f51d0b07a58>, <__main__.RDF object at 0x7f51d0b07a90>, <__main__.RDF object at 0x7f51d0b07b00>, <__main__.RDF object at 0x7f51d0b07b38>, <__main__.RDF object at 0x7f51d0b07ba8>, <__main__.RDF object at 0x7f51d0b07c18>, <__main__.RDF object at 0x7f51d0b07c50>, <__main__.RDF object at 0x7f51d0b07c88>, <__main__.RDF object at 0x7f51d0b07cc0>, <__main__.RDF object at 0x7f51d0b07cf8>, <__main__.RDF object at 0x7f51d0b07da0>, <__main__.RDF object at 0x7f51d0b07e10>, <__main__.RDF object at 0x7f51d0b07eb8>, <__main__.RDF object at 0x7f51d0b07ef0>, <__main__.RDF object at 0x7f51d0b07f60>, <__main__.RDF object at 0x7f51d0b07f98>, <__main__.RDF object at 0x7f51d0b07fd0>, <__main__.RDF object at 0x7f51d0b0c080>, <__main__.RDF object at 0x7f51d0b0c160>, <__main__.RDF object at 0x7f51d0b0c0b8>, <__main__.RDF object at 0x7f51d0b0c198>, <__main__.RDF object at 0x7f51d0b0c208>, <__main__.RDF object at 0x7f51d0b0c240>, <__main__.RDF object at 0x7f51d0b0c2b0>, <__main__.RDF object at 0x7f51d0b0c320>, <__main__.RDF object at 0x7f51d0b0c390>, <__main__.RDF object at 0x7f51d0b0c400>, <__main__.RDF object at 0x7f51d0b0c470>, <__main__.RDF object at 0x7f51d0b0c4a8>, <__main__.RDF object at 0x7f51d0b0c4e0>, <__main__.RDF object at 0x7f51d0b0c518>, <__main__.RDF object at 0x7f51d0b0c550>, <__main__.RDF object at 0x7f51d0b0c588>, <__main__.RDF object at 0x7f51d0b0c5c0>, <__main__.RDF object at 0x7f51d0b0c5f8>, <__main__.RDF object at 0x7f51d0b0c630>, <__main__.RDF object at 0x7f51d0b0c668>]\n",
      "average attributes per page 1.0\n"
     ]
    }
   ],
   "source": [
    "#Get the average of \"used\" attributes per page\n",
    "def average_attribute(rdflist):\n",
    "    all_attributes = []\n",
    "    for rdf in rdflist:\n",
    "        all_attributes.append(rdf.p)\n",
    "    total_attributes = len(all_attributes) #List of all attributes\n",
    "    total_rdf = len(rdflist) #List od all\n",
    "    avg = total_attributes/total_rdf\n",
    "    return avg\n",
    "\n",
    "\n",
    "print(\"average attributes per page\", average_attribute(all_triples))"
   ]
  },
  {
   "cell_type": "markdown",
   "metadata": {
    "collapsed": true
   },
   "source": [
    "# Reflectie\n",
    "\n",
    "Bij het parsen van de Infoboxen en het opzetten van de datastructuur is gebleken dat er veel ruis in de infoboxen zit, dit in de vorm van html tags, \"lege\" attributen enz. Dit zorgt voor een minder precieze analyse en ook voor dat de data onoverzichtelijk wordt voor mensen.\n",
    "De opbouw van infoboxen is niet consistent (het gebruik van engelse en nederlandse termen door elkaar) zorgt voor een grote maat van onzuiverheid bij metingen\n",
    "In het plot van hoe vaak de voorkomens zijn wordt bij veel dingen maar een voorkomen gemeten. Hierdoor vallen veel van de termen buiten het scherm. Dit wordt opgelost door alle termen die een keer voorkomen niet meer te laten zien. Dit is echter geen verantwoorde manier om de analyse toe te passen. "
   ]
  },
  {
   "cell_type": "code",
   "execution_count": null,
   "metadata": {
    "collapsed": true
   },
   "outputs": [],
   "source": []
  }
 ],
 "metadata": {
  "kernelspec": {
   "display_name": "Python 3",
   "language": "python",
   "name": "python3"
  },
  "language_info": {
   "codemirror_mode": {
    "name": "ipython",
    "version": 3
   },
   "file_extension": ".py",
   "mimetype": "text/x-python",
   "name": "python",
   "nbconvert_exporter": "python",
   "pygments_lexer": "ipython3",
   "version": "3.4.3"
  }
 },
 "nbformat": 4,
 "nbformat_minor": 0
}
