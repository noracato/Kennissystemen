{
 "cells": [
  {
   "cell_type": "markdown",
   "metadata": {},
   "source": [
    "# Assignment  week 7"
   ]
  },
  {
   "cell_type": "markdown",
   "metadata": {},
   "source": [
    "## Notebook made by   (If not filled in correctly: 0 pts for assignment)\n",
    "\n",
    "__Name(s)__: Nora Schinkel & Maarten Boon\n",
    "\n",
    "__Student id(s)__ : 10416730 & 10764399\n",
    "\n",
    "### Pledge (taken from [Coursera's Honor Code](https://www.coursera.org/about/terms/honorcode) )\n",
    "\n",
    "\n",
    "\n",
    "Put here a selfie with your photo where you hold a signed paper with the following text: (if this is team work, put two selfies here). The link must be to some place on the web, not to a local file. **Assignments without the selfies will not be graded and receive 0 points.**\n",
    "\n",
    "> My answers to homework, quizzes and exams will be my own work (except for assignments that explicitly permit collaboration).\n",
    "\n",
    ">I will not make solutions to homework, quizzes or exams available to anyone else. This includes both solutions written by me, as well as any official solutions provided by the course staff.\n",
    "\n",
    ">I will not engage in any other activities that will dishonestly improve my results or dishonestly improve/hurt the results of others.\n",
    "\n",
    "<img src='http://i.imgur.com/9g88in2.jpg%5C'/>\n",
    "<img src='https://raw.githubusercontent.com/noracato/Kennissystemen/master/pledge.jpg'/>"
   ]
  },
  {
   "cell_type": "markdown",
   "metadata": {},
   "source": [
    "# Infoboxes\n",
    "\n",
    "* We willen voor elke Wikipedia pagina de informatie uit de infobox halen en die gestructureerd opslaan.\n",
    "* In het simpele geval is de infobox een lijst van attribuut-waarde paren:\n",
    "    * het zijn attributen van de \"entiteit\" waar de pagina over gaat.\n",
    "    * Dit zijn dus typisch _RDF subject-predicate-object triples_\n",
    "    * Die je in eerste orde logica als een binaire relatie zou opslaan (bijvoorbeeld _DateOfBirth(Albert-Speer,'19 maart 1905')_)\n",
    "* Je zal zien dat hier flink wat haken en ogen aan zitten.\n",
    "    \n",
    "\n",
    "\n",
    "\n",
    "## Inspecteer een voorbeeld\n",
    "\n",
    "* We gaan eens kijken hoe we de attribuut-waarde paren uit de zogenaamde _infoboxen_ uit de Wikipedia paginas kunnen gaan halen.\n",
    "* Vergelijk eens het begin van de file `NLWikipedia/small.xml` met de pagina <https://nl.wikipedia.org/wiki/Albert_Speer>\n",
    "* Die infobox informatie ziet er goed en redelijk eenvoudig te extraheren uit.\n",
    "* Er zijn verschillende _mediawiki_ (het formaat van wikipedia paginas) parsers in omloop. \n",
    "\n",
    "### Je bent niet de eerste met deze opdracht ....\n",
    "\n",
    "* Zoek op het web.\n",
    "* Bijvoorbeeld: <http://stackoverflow.com/questions/8088226/content-of-infobox-of-wikipedia/21107068#21107068>\n",
    "* Zie ook <https://www.mediawiki.org/wiki/Alternative_parsers> voor nog meer mediawiki parsers\n",
    "* Denk ook eens aan <http://pandoc.org/demos.html>\n",
    "* Zie ook [WikipediaInfoBoxes](WikipediaInfoBoxes) is de assignments folder."
   ]
  },
  {
   "cell_type": "markdown",
   "metadata": {},
   "source": [
    "## Vragen\n",
    "\n",
    "## Download, en extraheer.  (33%)\n",
    "* Download de dump met alle NL wikipedia paginas.\n",
    "\n",
    "\n",
    "1. Verzin een goede datastructuur voor de subject-predicate-object triples die je uit de infoboxes per pagina gaat extraheren.\n",
    "1. Schrijf een functie die uit het text element het infobox deel extraheert, en die lijst attribuut-waarde paren omzet naar jouw datastructuur.\n",
    "2. Pas je functie toe op het [voorbeeld](NLWikipedia/sample.xml, en debug je code.\n",
    "\n",
    "### Nou op de hele file/dump\n",
    "1. Zoek uit hoe je een file stromend kunt inlezen in Python.\n",
    "2. Pas nu je code toe op de hele file. \n",
    "3. Misschien  moet je wel  steeds gegevens naar een file gaan wegschrijven. \n",
    "4. Is jouw gekozen data formaat  handig?\n",
    "\n",
    "#### Hints:\n",
    "* Wil niet meteen alles tegelijk. Als er te veel variatie in de data zit, richt je dan op de meest voorkomende gevallen, en probeer die goed te krijgen. \n",
    "* Probeer wel een beeld te krijgen van \"wat je mist\", en beschrijf dat ook. \n",
    "\n",
    "## Analyseer  (33%)\n",
    "\n",
    "1. Maak statistieken, wat zijn de meest gebruikte attributen, hoe vaak worden ze gebruikt, hoeveel attributen zijn er? Welke waardes worden er veel gebruikt? Hoeveel attributen zie je gemiddeld/mediaan per pagina? \n",
    "2. Doe een analyse op de waardes van de attributen? Kan je bepaalde types vinden?\n",
    "3. Doe een analyse op de uniformiteit van de attribuutnamen. Uit de literatuur blijkt dat er erg veel verschillende manieren worden gebruikt om hetzelfde attribuut weer te geven (bijv, sterfdag, sterfdatum, sterftejaar, etc). Is dat ook zo in jouw dataset? Hoe kom je daar eigenlijk achter? \n",
    " \n",
    " \n",
    "## Reflecteer  (33%)\n",
    "* Je hebt nu flink wat tijd besteed aan wat de mensen achter DBpedia, Yago, FreeBase en meer van dit soort initiatieven ook al doen. De bedoeling van de opdracht was om te ervaren wat een klus het is om een kennisbank te vullen met \"gestructureerde\" informatie van het web. \n",
    "* Beschrijf puntsgewijs wat volgens jullie de lastige onderdelen zijn van dit proces.\n",
    "* Licht er 2-3 uit, en vertel hoe jullie het probleem hebben aangepakt."
   ]
  },
  {
   "cell_type": "markdown",
   "metadata": {},
   "source": [
    "# Mijn antwoorden"
   ]
  },
  {
   "cell_type": "code",
   "execution_count": 28,
   "metadata": {
    "collapsed": false,
    "scrolled": false
   },
   "outputs": [
    {
     "name": "stdout",
     "output_type": "stream",
     "text": [
      "['Albert Speer', 'afbeelding', 'Albert Speer Neurenberg.JPG']\n",
      "['Albert Speer', 'onderschrift', 'Speer op het [[Proces van Neurenberg]] (1945-1946)']\n",
      "['Albert Speer', 'gbdat', '19 maart 1905']\n",
      "['Albert Speer', 'sterfdat', '1 september 1981']\n",
      "['Albert Speer', 'geslacht', 'Man']\n",
      "['Albert Speer', 'gbplaats', 'Mannheim']\n",
      "['Albert Speer', 'sterfplaats', 'Londen']\n",
      "['Albert Speer', 'zijde', 'Nazi-Duitsland']\n",
      "['Albert Speer', 'org', 'NSDAP']\n",
      "['Albert Speer', 'spfunc', 'Minister van Bewapening en Munitie']\n",
      "[' Andre Agassi', 'ATP-id', ' A092']\n",
      "[' Andre Agassi', 'afbeelding', ' Andre Agassi 2005 US Clay Court.jpg']\n",
      "[' Andre Agassi', 'bijnaam', \" ''The Las Vegas Kid'', ''The A Train''\"]\n",
      "[' Groen', 'afbeelding', ' Groen_logo.png']\n",
      "[' Groen', 'partijvoorzitter', ' [[Meyrem Almaci]]']\n",
      "[' Groen', 'vice-partijvoorzitter', ' [[Jeremie Vaneeckhout]]']\n",
      "[' Groen', 'functienaam1', ' [[Europees Parlement]]']\n",
      "[' Groen', 'functie1', ' [[Bart Staes]]']\n",
      "[' Groen', 'functienaam2', ' [[Senaat (België)|Senaat]]']\n",
      "[' Groen', 'functie2', ' [[Elisabeth Meuleman]]']\n",
      "[' Groen', 'functienaam3', ' [[Kamer van Volksvertegenwoordigers|Kamer]]']\n",
      "[' Groen', 'functie3', ' [[Kristof Calvo]] (fractie met [[Ecolo]])']\n",
      "[' Groen', 'functienaam4', ' [[Vlaams Parlement]]']\n",
      "[' Groen', 'functie4', ' [[Björn Rzoska]]']\n",
      "[' Groen', 'functienaam5', ' [[Brussels Hoofdstedelijk Parlement|Brussels Parlement]]']\n",
      "[' Groen', 'functie5', ' [[Annemie Maes]]']\n",
      "[' Groen', 'zetelnaam1', ' [[Europees Parlement]]']\n",
      "[' Groen', 'zetels1', ' 1']\n",
      "[' Groen', 'zetelstotaal1', ' 21']\n",
      "[' Groen', 'verkiezingen1', ' [[Europese Parlementsverkiezingen 2014|25 mei 2014]]']\n",
      "[' Groen', 'zetelnaam2', ' [[Senaat (België)|Senaat]]']\n",
      "[' Groen', 'zetels2', ' 3']\n",
      "[' Groen', 'zetelstotaal2', ' 60']\n",
      "[' Groen', 'verkiezingen2', ' [[Belgische federale verkiezingen 2014|25 mei 2014]]']\n",
      "[' Groen', 'zetelnaam3', ' [[Kamer van Volksvertegenwoordigers|Kamer]]']\n",
      "[' Groen', 'zetels3', ' 6']\n",
      "[' Groen', 'zetelstotaal3', ' 150']\n",
      "[' Groen', 'verkiezingen3', ' [[Belgische federale verkiezingen 2014|25 mei 2014]]']\n",
      "[' Groen', 'zetelnaam4', ' [[Vlaams Parlement]]']\n",
      "[' Groen', 'zetels4', ' 10']\n",
      "[' Groen', 'zetelstotaal4', ' 124']\n",
      "[' Groen', 'verkiezingen4', ' [[Vlaamse verkiezingen 2014|25 mei 2014]]']\n",
      "[' Groen', 'zetelnaam5', ' [[Brussels Hoofdstedelijk Parlement|Brussels Parlement]]']\n",
      "[' Groen', 'zetels5', ' 3']\n",
      "[' Groen', 'zetelstotaal5', ' 89']\n",
      "[' Groen', 'verkiezingen5', ' [[Brusselse gewestverkiezingen 2014|25 mei 2014]]']\n",
      "[' Groen', 'zetelnaam6', ' [[Gedeputeerde|Gedeputeerden in Vlaamse provincies]]']\n",
      "[' Groen', 'zetels6', ' 1']\n",
      "[' Groen', 'zetelstotaal6', ' 30']\n",
      "[' Groen', 'verkiezingen6', ' [[Belgische lokale verkiezingen 2012|14 oktober 2012]]']\n",
      "[' Groen', 'zetelnaam7', ' [[Burgemeester|Burgemeesters in Vlaamse gemeenten]]']\n",
      "[' Groen', 'zetels7', ' 2']\n",
      "[' Groen', 'zetelstotaal7', ' 308']\n",
      "[' Groen', 'verkiezingen7', ' [[Belgische lokale verkiezingen 2012|14 oktober 2012]]']\n",
      "[' Groen', 'exnaam', ' 1979: Agalev<br />2003: Groen!']\n",
      "[' Anthony Fokker', 'afbeelding', ' Anthony Fokker 1912.jpg']\n",
      "[' Anthony Fokker', 'onderschrift', ' Anthony Fokker']\n",
      "[' Anthony Fokker', 'volledigenaam', ' Antonij Herman Gerard Fokker']\n",
      "[' Anthony Fokker', 'geboortedatum', ' [[6 april]] [[1890]]']\n",
      "[' Anthony Fokker', 'geboorteplaats', ' [[Kediri (stad)|Kediri]]']\n",
      "[' Anthony Fokker', 'sterfdatum', ' [[23 december]] [[1939]]']\n",
      "[' Anthony Fokker', 'sterfplaats', ' [[New York City]], ([[New York (staat)|New York]])']\n",
      "[' Anthony Fokker', 'nationaliteit', ' [[Nederlands]]e']\n",
      "[' Anthony Fokker', 'portaal', ' Luchtvaart']\n",
      "[' Albert Plesman', 'onderschrift', ' Plesman (links) met de Indonesische minister-president Ali Sastroamidjojo in Den Haag (1949)']\n",
      "[' Albert Plesman', 'volledigenaam', ' Albert Plesman']\n",
      "[' Albert Plesman', 'geboortedatum', ' 7 september 1889']\n",
      "[' Albert Plesman', 'geboorteplaats', \" 's-Gravenhage\"]\n",
      "[' Albert Plesman', 'sterfdatum', ' 31 december 1953']\n",
      "[' Albert Plesman', 'sterfplaats', \" 's-Gravenhage\"]\n",
      "[' Albert Plesman', 'nationaliteit', ' Nederlandse']\n",
      "[' Albert Plesman', 'bekendvan', ' eerste president van KLM']\n",
      "[' Albert Plesman', 'portaal', ' Luchtvaart']\n"
     ]
    },
    {
     "ename": "IndexError",
     "evalue": "list index out of range",
     "output_type": "error",
     "traceback": [
      "\u001b[0;31m---------------------------------------------------------------------------\u001b[0m",
      "\u001b[0;31mIndexError\u001b[0m                                Traceback (most recent call last)",
      "\u001b[0;32m<ipython-input-28-32fab59c156d>\u001b[0m in \u001b[0;36m<module>\u001b[0;34m()\u001b[0m\n\u001b[1;32m     43\u001b[0m                 \u001b[0mpredicate\u001b[0m \u001b[0;34m=\u001b[0m \u001b[0mtwoparts\u001b[0m\u001b[0;34m[\u001b[0m\u001b[0;36m0\u001b[0m\u001b[0;34m]\u001b[0m\u001b[0;34m\u001b[0m\u001b[0m\n\u001b[1;32m     44\u001b[0m                 \u001b[0mpredicate\u001b[0m \u001b[0;34m=\u001b[0m \u001b[0mre\u001b[0m\u001b[0;34m.\u001b[0m\u001b[0msplit\u001b[0m\u001b[0;34m(\u001b[0m\u001b[0;34m' '\u001b[0m\u001b[0;34m,\u001b[0m \u001b[0mpredicate\u001b[0m\u001b[0;34m)\u001b[0m\u001b[0;34m[\u001b[0m\u001b[0;36m1\u001b[0m\u001b[0;34m]\u001b[0m\u001b[0;34m\u001b[0m\u001b[0m\n\u001b[0;32m---> 45\u001b[0;31m                 \u001b[0mobj\u001b[0m \u001b[0;34m=\u001b[0m \u001b[0mtwoparts\u001b[0m\u001b[0;34m[\u001b[0m\u001b[0;36m1\u001b[0m\u001b[0;34m]\u001b[0m\u001b[0;34m\u001b[0m\u001b[0m\n\u001b[0m\u001b[1;32m     46\u001b[0m                 \u001b[0mprint\u001b[0m\u001b[0;34m(\u001b[0m\u001b[0;34m[\u001b[0m\u001b[0msubject\u001b[0m\u001b[0;34m,\u001b[0m \u001b[0mpredicate\u001b[0m\u001b[0;34m,\u001b[0m\u001b[0mobj\u001b[0m\u001b[0;34m]\u001b[0m\u001b[0;34m)\u001b[0m\u001b[0;34m\u001b[0m\u001b[0m\n\u001b[1;32m     47\u001b[0m                 \u001b[0mgoodinfo\u001b[0m\u001b[0;34m.\u001b[0m\u001b[0mappend\u001b[0m\u001b[0;34m(\u001b[0m\u001b[0minfo\u001b[0m\u001b[0;34m)\u001b[0m\u001b[0;34m\u001b[0m\u001b[0m\n",
      "\u001b[0;31mIndexError\u001b[0m: list index out of range"
     ]
    }
   ],
   "source": [
    "#dict van dicts, {\"page\":{\"Subject\":_sub_, \"Predicate\":_pred_, \"Obj\":_obj_}}???\n",
    "import requests\n",
    "import json\n",
    "import re\n",
    "from bs4 import BeautifulSoup\n",
    "\n",
    "\n",
    "class RDF(object):\n",
    "    def __init__(self, subject, predicate, obj):\n",
    "        self.s = subject\n",
    "        self.p = predicate\n",
    "        self.o = obj\n",
    "\n",
    "def get_name(infobox):\n",
    "    name = infobox[1]\n",
    "    name = re.split('=', name)[1]\n",
    "    return name\n",
    "\n",
    "url = 'http://maartenmarx.nl/teaching/KennisSystemen/Assignments/NLWikipedia/small.xml'\n",
    "r = requests.get(url) \n",
    "content = r.content\n",
    "content = content.decode('UTF-8')\n",
    "soup = BeautifulSoup(content, 'xml')\n",
    "text = soup.get_text()\n",
    "#print(text)\n",
    "better_text = re.split(r'\\n', text)\n",
    "better_text = re.split('{{', text)\n",
    "#print(better_text)\n",
    "\n",
    "\n",
    "all_triples = []\n",
    "for paragraphs in better_text:\n",
    "    if paragraphs.startswith('Info'):\n",
    "        infobox = re.split('}}', paragraphs)[0]\n",
    "        infobox = re.split(r'\\n', infobox)\n",
    "        subject = get_name(infobox)\n",
    "        infobox.pop(0)\n",
    "        infobox.pop(0)\n",
    "        goodinfo = []\n",
    "        for info in infobox:\n",
    "            if not info.endswith('=') and not info.endswith('= ') and not info == '':\n",
    "                twoparts = re.split('=', info)\n",
    "                predicate = twoparts[0]\n",
    "                predicate = re.split(' ', predicate)[1]\n",
    "                obj = twoparts[1]\n",
    "                print([subject, predicate,obj])\n",
    "                goodinfo.append(info)\n",
    "        #print(goodinfo)\n",
    "        #info_text.append(bits[0])\n",
    "        \n"
   ]
  },
  {
   "cell_type": "code",
   "execution_count": null,
   "metadata": {
    "collapsed": true
   },
   "outputs": [],
   "source": [
    " "
   ]
  },
  {
   "cell_type": "code",
   "execution_count": null,
   "metadata": {
    "collapsed": true
   },
   "outputs": [],
   "source": []
  },
  {
   "cell_type": "code",
   "execution_count": null,
   "metadata": {
    "collapsed": true
   },
   "outputs": [],
   "source": []
  }
 ],
 "metadata": {
  "kernelspec": {
   "display_name": "Python 3",
   "language": "python",
   "name": "python3"
  },
  "language_info": {
   "codemirror_mode": {
    "name": "ipython",
    "version": 3
   },
   "file_extension": ".py",
   "mimetype": "text/x-python",
   "name": "python",
   "nbconvert_exporter": "python",
   "pygments_lexer": "ipython3",
   "version": "3.4.3"
  }
 },
 "nbformat": 4,
 "nbformat_minor": 0
}
