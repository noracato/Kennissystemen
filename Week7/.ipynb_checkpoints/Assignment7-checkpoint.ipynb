{
 "cells": [
  {
   "cell_type": "markdown",
   "metadata": {},
   "source": [
    "# Assignment  week 7"
   ]
  },
  {
   "cell_type": "markdown",
   "metadata": {},
   "source": [
    "## Notebook made by   (If not filled in correctly: 0 pts for assignment)\n",
    "\n",
    "__Name(s)__: Nora Schinkel & Maarten Boon\n",
    "\n",
    "__Student id(s)__ : 10416730 & 10764399\n",
    "\n",
    "### Pledge (taken from [Coursera's Honor Code](https://www.coursera.org/about/terms/honorcode) )\n",
    "\n",
    "\n",
    "\n",
    "Put here a selfie with your photo where you hold a signed paper with the following text: (if this is team work, put two selfies here). The link must be to some place on the web, not to a local file. **Assignments without the selfies will not be graded and receive 0 points.**\n",
    "\n",
    "> My answers to homework, quizzes and exams will be my own work (except for assignments that explicitly permit collaboration).\n",
    "\n",
    ">I will not make solutions to homework, quizzes or exams available to anyone else. This includes both solutions written by me, as well as any official solutions provided by the course staff.\n",
    "\n",
    ">I will not engage in any other activities that will dishonestly improve my results or dishonestly improve/hurt the results of others.\n",
    "\n",
    "<img src='http://i.imgur.com/9g88in2.jpg%5C'/>\n",
    "<img src='https://raw.githubusercontent.com/noracato/Kennissystemen/master/pledge.jpg'/>"
   ]
  },
  {
   "cell_type": "markdown",
   "metadata": {},
   "source": [
    "# Infoboxes\n",
    "\n",
    "* We willen voor elke Wikipedia pagina de informatie uit de infobox halen en die gestructureerd opslaan.\n",
    "* In het simpele geval is de infobox een lijst van attribuut-waarde paren:\n",
    "    * het zijn attributen van de \"entiteit\" waar de pagina over gaat.\n",
    "    * Dit zijn dus typisch _RDF subject-predicate-object triples_\n",
    "    * Die je in eerste orde logica als een binaire relatie zou opslaan (bijvoorbeeld _DateOfBirth(Albert-Speer,'19 maart 1905')_)\n",
    "* Je zal zien dat hier flink wat haken en ogen aan zitten.\n",
    "    \n",
    "\n",
    "\n",
    "\n",
    "## Inspecteer een voorbeeld\n",
    "\n",
    "* We gaan eens kijken hoe we de attribuut-waarde paren uit de zogenaamde _infoboxen_ uit de Wikipedia paginas kunnen gaan halen.\n",
    "* Vergelijk eens het begin van de file `NLWikipedia/small.xml` met de pagina <https://nl.wikipedia.org/wiki/Albert_Speer>\n",
    "* Die infobox informatie ziet er goed en redelijk eenvoudig te extraheren uit.\n",
    "* Er zijn verschillende _mediawiki_ (het formaat van wikipedia paginas) parsers in omloop. \n",
    "\n",
    "### Je bent niet de eerste met deze opdracht ....\n",
    "\n",
    "* Zoek op het web.\n",
    "* Bijvoorbeeld: <http://stackoverflow.com/questions/8088226/content-of-infobox-of-wikipedia/21107068#21107068>\n",
    "* Zie ook <https://www.mediawiki.org/wiki/Alternative_parsers> voor nog meer mediawiki parsers\n",
    "* Denk ook eens aan <http://pandoc.org/demos.html>\n",
    "* Zie ook [WikipediaInfoBoxes](WikipediaInfoBoxes) is de assignments folder."
   ]
  },
  {
   "cell_type": "markdown",
   "metadata": {},
   "source": [
    "## Vragen\n",
    "\n",
    "## Download, en extraheer.  (33%)\n",
    "* Download de dump met alle NL wikipedia paginas.\n",
    "\n",
    "\n",
    "1. Verzin een goede datastructuur voor de subject-predicate-object triples die je uit de infoboxes per pagina gaat extraheren.\n",
    "1. Schrijf een functie die uit het text element het infobox deel extraheert, en die lijst attribuut-waarde paren omzet naar jouw datastructuur.\n",
    "2. Pas je functie toe op het [voorbeeld](NLWikipedia/sample.xml, en debug je code.\n",
    "\n",
    "### Nou op de hele file/dump\n",
    "1. Zoek uit hoe je een file stromend kunt inlezen in Python.\n",
    "2. Pas nu je code toe op de hele file. \n",
    "3. Misschien  moet je wel  steeds gegevens naar een file gaan wegschrijven. \n",
    "4. Is jouw gekozen data formaat  handig?\n",
    "\n",
    "#### Hints:\n",
    "* Wil niet meteen alles tegelijk. Als er te veel variatie in de data zit, richt je dan op de meest voorkomende gevallen, en probeer die goed te krijgen. \n",
    "* Probeer wel een beeld te krijgen van \"wat je mist\", en beschrijf dat ook. \n",
    "\n",
    "## Analyseer  (33%)\n",
    "\n",
    "1. Maak statistieken, wat zijn de meest gebruikte attributen, hoe vaak worden ze gebruikt, hoeveel attributen zijn er? Welke waardes worden er veel gebruikt? Hoeveel attributen zie je gemiddeld/mediaan per pagina? \n",
    "2. Doe een analyse op de waardes van de attributen? Kan je bepaalde types vinden?\n",
    "3. Doe een analyse op de uniformiteit van de attribuutnamen. Uit de literatuur blijkt dat er erg veel verschillende manieren worden gebruikt om hetzelfde attribuut weer te geven (bijv, sterfdag, sterfdatum, sterftejaar, etc). Is dat ook zo in jouw dataset? Hoe kom je daar eigenlijk achter? \n",
    " \n",
    " \n",
    "## Reflecteer  (33%)\n",
    "* Je hebt nu flink wat tijd besteed aan wat de mensen achter DBpedia, Yago, FreeBase en meer van dit soort initiatieven ook al doen. De bedoeling van de opdracht was om te ervaren wat een klus het is om een kennisbank te vullen met \"gestructureerde\" informatie van het web. \n",
    "* Beschrijf puntsgewijs wat volgens jullie de lastige onderdelen zijn van dit proces.\n",
    "* Licht er 2-3 uit, en vertel hoe jullie het probleem hebben aangepakt."
   ]
  },
  {
   "cell_type": "markdown",
   "metadata": {},
   "source": [
    "# Mijn antwoorden"
   ]
  },
  {
   "cell_type": "code",
   "execution_count": 19,
   "metadata": {
    "collapsed": false,
    "scrolled": false
   },
   "outputs": [
    {
     "name": "stdout",
     "output_type": "stream",
     "text": [
      "['Infobox persoon Tweede Wereldoorlog', '| naam=Albert Speer', '| afbeelding=Albert Speer Neurenberg.JPG', '| onderschrift=Speer op het [[Proces van Neurenberg]] (1945-1946)', '| gbdat=19 maart 1905', '| sterfdat=1 september 1981', '| geslacht=Man', '| gbplaats=Mannheim', '| sterfplaats=Londen', '| zijde=Nazi-Duitsland', '| org=NSDAP', '| spfunc=Minister van Bewapening en Munitie', '| rang=', '']\n",
      "['Infobox tennisspeler', '| naam= Andre Agassi', '| ATP-id = A092', '| afbeelding= Andre Agassi 2005 US Clay Court.jpg', \"| bijnaam= ''The Las Vegas Kid'', ''The A Train''\", '| nationaliteit= ']\n",
      "['Infobox politieke partij België', '| naam             = Groen', '| afbeelding       = Groen_logo.png', '| partijvoorzitter = [[Meyrem Almaci]]', '| vice-partijvoorzitter = [[Jeremie Vaneeckhout]]', '| politiek secretaris = ', '| functienaam1     = [[Europees Parlement]]', '| functie1         = [[Bart Staes]]', '| functienaam2     = [[Senaat (België)|Senaat]]', '| functie2         = [[Elisabeth Meuleman]]', '| functienaam3     = [[Kamer van Volksvertegenwoordigers|Kamer]]', '| functie3         = [[Kristof Calvo]] (fractie met [[Ecolo]])', '| functienaam4     = [[Vlaams Parlement]]', '| functie4         = [[Björn Rzoska]]', '| functienaam5     = [[Brussels Hoofdstedelijk Parlement|Brussels Parlement]]', '| functie5         = [[Annemie Maes]]', '| zetelnaam1       = [[Europees Parlement]]', '| zetels1          = 1', '| zetelstotaal1    = 21', '| verkiezingen1    = [[Europese Parlementsverkiezingen 2014|25 mei 2014]]', '| zetelnaam2       = [[Senaat (België)|Senaat]]', '| zetels2          = 3', '| zetelstotaal2    = 60', '| verkiezingen2    = [[Belgische federale verkiezingen 2014|25 mei 2014]]', '| zetelnaam3       = [[Kamer van Volksvertegenwoordigers|Kamer]]', '| zetels3          = 6', '| zetelstotaal3    = 150', '| verkiezingen3    = [[Belgische federale verkiezingen 2014|25 mei 2014]]', '| zetelnaam4       = [[Vlaams Parlement]]', '| zetels4          = 10', '| zetelstotaal4    = 124', '| verkiezingen4    = [[Vlaamse verkiezingen 2014|25 mei 2014]]', '| zetelnaam5       = [[Brussels Hoofdstedelijk Parlement|Brussels Parlement]]', '| zetels5          = 3', '| zetelstotaal5    = 89', '| verkiezingen5    = [[Brusselse gewestverkiezingen 2014|25 mei 2014]]', '| zetelnaam6       = [[Gedeputeerde|Gedeputeerden in Vlaamse provincies]]', '| zetels6          = 1', '| zetelstotaal6    = 30', '| verkiezingen6    = [[Belgische lokale verkiezingen 2012|14 oktober 2012]]', '| zetelnaam7       = [[Burgemeester|Burgemeesters in Vlaamse gemeenten]]', '| zetels7          = 2', '| zetelstotaal7    = 308', '| verkiezingen7    = [[Belgische lokale verkiezingen 2012|14 oktober 2012]]', '| verkiezingen8    = ', '| exnaam           = 1979: Agalev<br />2003: Groen!', '| actief in        = ']\n",
      "['Infobox persoon', '| naam           = Anthony Fokker', '| afbeelding     = Anthony Fokker 1912.jpg', '| onderschrift   = Anthony Fokker', '| volledigenaam  = Antonij Herman Gerard Fokker', '| geboortedatum  = [[6 april]] [[1890]]', '| geboorteplaats = [[Kediri (stad)|Kediri]]', '| sterfdatum     = [[23 december]] [[1939]]', '| sterfplaats    = [[New York City]], ([[New York (staat)|New York]])', '| nationaliteit  = [[Nederlands]]e', '| beroep         = ', '| bekendvan      = ', '| religie        = ', '| politiek       = ', '| zieook         = ', '| website        = ', '| handtekening   = ', '| portaal        = Luchtvaart', '']\n",
      "['Infobox persoon', '| naam           = Albert Plesman', '| afbeelding     =', '| onderschrift   = Plesman (links) met de Indonesische minister-president Ali Sastroamidjojo in Den Haag (1949)', '| volledigenaam  = Albert Plesman', '| geboortedatum  = 7 september 1889', \"| geboorteplaats = 's-Gravenhage\", '| sterfdatum     = 31 december 1953', \"| sterfplaats    = 's-Gravenhage\", '| nationaliteit  = Nederlandse', '| beroep         = ', '| bekendvan      = eerste president van KLM', '| religie        = ', '| politiek       = ', '| zieook         = ', '| website        = ', '| portaal        = Luchtvaart', '']\n",
      "['Infobox wetenschapper', '| naam           = Alan Turing', '<!-- probleem met rechten bij National Gallery', '| afbeelding     = File:Alan Turing photo.jpg', '| onderschrift   = Alan Mathison Turing ten tijde van zijn verkiezing tot Fellow van de Britse Royal Society, 29 maart 1951. ', '-->', '| afbeelding     = Alan Turing.jpg', '| onderschrift   = Standbeeld van Alan Turing door Stephen Kettle van 1,5 ton, gemaakt van een half miljoen stukjes leisteen uit Wales, in opdracht van de Amerikaanse [[miljardair]] Sidney Frank. Aan de muur de portretfoto van Turing ten tijde van zijn verkiezing tot Fellow van de Britse Royal Society, 1951.', '| volledigenaam  = Alan Mathison Turing', '| geboortedatum  = [[23 juni]] [[1912]]', '| geboorteplaats = [[Londen]]', '| sterfdatum     = [[7 juni]] [[1954]]', '| sterfplaats    = [[Wilmslow]]', '| vakgebied      = [[Wiskunde]], [[Informatica]], [[Logica]], [[Mathematische biologie]], [[Cryptografie]]', '| onderzoek1     = ', '| onderzoek2     = ', '| publicaties    = ', '| bekendvan      = ', '| religie        = ', '| hobby          = ', '| handtekening   =', '| handtekeningpx = ', '| website        = ', '| portaal        = ', '']\n",
      "['Infobox gebergte', '| naam                    = Alpen', '| kaartnaam               = Alpenrelief 01.jpg', '| hoogste punt            = [[Mont Blanc]] (4810 m)', '| lengte                  = 1200', '| breedte                 = 150-250', '| oppervlakte             = 200.000', '| locatie                 = [[Frankrijk]], [[Monaco]], [[Italië]], [[Zwitserland]], [[Oostenrijk]], [[Slovenië]], [[Duitsland]] en [[Liechtenstein]]', '| onderdeel van           = ', '| bestaat uit             = ', '| ouderdomgesteente       = ', '| type                    = ', '| mapname                 = ', '| lat_deg                 = 46', '| lat_min                 = 0', '| lat_dir                 = N', '| lon_deg                 = 10', '| lon_min                 = 0', '| lon_dir                 = E', '| afbeeldingnaam          = Mont Blanc and Dome du Gouter.jpg', '| afbeeldingonderschrift  = Mont Blanc', '| afbeeldingnaam2         = Alpen.jpg', '| afbeeldingonderschrift2 = Satellietfoto van de Alpen uit 2002', '| portaal2                = Alpen', '']\n",
      "['Infobox gemeente België', '| soort             = Stad', '| naam              = Antwerpen', '| altnaam           = ', '| kaart             = [[Bestand:AntwerpenLocatie.png|250px]]', '| kaartbijschrift   = ', '| wapen             = Coat of arms of Antwerp (City).svg', '| wapenartikel      = Wapen van Antwerpen#Wapen van de stad', '| vlagartikel       = Vlag van Antwerpen#Vlag van de stad', '| vlag              = Flag of Antwerp (City).svg', '| gewest            = Vlaanderen', '| provincie         = Antwerpen', '| arrondissement    = [[Arrondissement Antwerpen|Antwerpen]]', '| postcode          = 2000, 2018, 2020,<br />2030, 2050, 2060<br />2040<br /><br /><br />2100<br />2140<br />2170<br />2180<br />2600<br />2610<br />2660', '| deelgemeente      = [[Antwerpen (district)|Antwerpen]]<br /><br />[[Berendrecht-Zandvliet-Lillo|Berendrecht-]]<br />[[Berendrecht-Zandvliet-Lillo|Zandvliet-]]<br />[[Berendrecht-Zandvliet-Lillo|Lillo]]<br />[[Deurne (Antwerpen)|Deurne]]<br />[[Borgerhout]]<br />[[Merksem]]<br />[[Ekeren]]<br />[[Berchem (Antwerpen)|Berchem]]<br />[[Wilrijk]]<br />[[Hoboken (Antwerpen)|Hoboken]]', '| deelgemeentesoort = [[District]]', '| burgemeester      = [[Bart De Wever]] ([[Nieuw-Vlaamse Alliantie|N-VA]])', '| bestuur           = [[Nieuw-Vlaamse Alliantie|N-VA]], [[Christen-Democratisch en Vlaams|CD&V]], [[Open Vlaamse Liberalen en Democraten|Open Vld]]', '| partijen          = [[Nieuw-Vlaamse Alliantie|N-VA]]<br />[[Socialistische Partij Anders|sp.a]]<br />[[Christen-Democratisch en Vlaams|CD&V]]<br />[[Vlaams Belang|VB]]<br />[[Groen (partij)|Groen]]<br />[[Partij van de Arbeid van België|PVDA+]]<br />[[Open Vlaamse Liberalen en Democraten|Open Vld]]<br />onafhankelijk', \"| zetels            = '''55'''<br />23<br />12<br />5<br />5<br />4<br />3<br />2<br />1\", '| netnummer         = 03', '| nis               = 11002', '| web               = [http://www.antwerpen.be/ www.antwerpen.be]', '| foto              = [[Bestand:OlV toren en Boerentoren Antwerpen vanaf Linkeroever.jpg|260px|Antwerpen]]', '| ondertitel        = De Onze-Lieve-Vrouwekathedraal en Boerentoren vanaf Linkeroever.', '| extra portaal     = Antwerpen', '']\n",
      "['Infobox persoon VOC', '| naam            = Abel Tasman', '| afbeelding      = AbelTasman.jpg', '| onderschrift    = Waarschijnlijk Abel Tasman, detail uit schilderij toegeschreven aan [[Jacob Gerritsz. Cuyp]]', '| volledige naam  = ', '| geboren         = [[1603]], [[Lutjegast]]', '| overleden       = [[10 oktober]] [[1659]], [[Batavia (Nederlands-Indië)|Batavia]]', '| titulatuur      = ', '| tijdvak1        = ', '| functie1        = Ontdekkingsreiziger in dienst van [[Vereenigde Oostindische Compagnie]]', '| tijdvak2        = ', '| functie2        = ', '| tijdvak3        = ', '| functie3        = ', '| tijdvak4        = ', '| functie4        = ', '| rang            = ', '| veldslagen      = ', '| onderscheidingen= ', '| handtekening    = ', '']\n",
      "['Infobox auteur', '| naam           = Anna Enquist', '| afbeelding     = ', '| onderschrift   = ', '| citaat         = ', '| volledige naam = Christa Widlund-Broer', '| pseudoniem     = Anna Enquist', '| bijnaam        = ', '| geboren        = [[19 juli]] [[1945]]', '| overleden      = ', '| land           = ']\n",
      "['Infobox politicus Nederland', '| naam            = Ad Melkert', '| afbeelding      = PvdA - Ad Melkert2002.jpg', '| onderschrift    = ', '| volledige naam  = Adrianus Petrus Wilhelmus Melkert', '| geboren         = [[12 februari]] [[1956]] <br /> [[Gouda]], [[Zuid-Holland]]', '| overleden       = ', '| huidige functie = Speciaal VN-gezant', '| partij          = [[Politieke Partij Radikalen|PPR]] <small>(1974-1981)</small> <br /> [[Partij van de Arbeid (Nederland)|PvdA]] <small>(vanaf 1982)</small>', '| titulatuur      = [[Doctorandus|drs.]]', '| tijdvak1        = 1986-1994', '| functie1        = Lid [[Tweede Kamer]]', '| tijdvak2        = 1994-1998', '| functie2        = [[Lijst van Nederlandse ministers van Sociale Zaken en Werkgelegenheid|Minister]] van [[Ministerie van Sociale Zaken en Werkgelegenheid|Sociale Zaken en Werkgelegenheid]]', '| tijdvak3        = 1998-2002', '| functie3        = Lid [[Tweede Kamer der Staten-Generaal|Tweede Kamer]]', '| tijdvak4        = 1998-2002', '| functie4        = [[Fractievoorzitter]] - [[Tweede Kamer der Staten-Generaal|Tweede Kamer]]', '| tijdvak5        = 2002-2006', '| functie5        = [[Bewindvoerder]] - [[Wereldbank]]', '| tijdvak6        = 2006-2009', '| functie6        = Onder-Administrateur - [[Verenigde Naties-Ontwikkelingsprogramma]]', '| tijdvak7        = 2009-2011', '| functie7        = Speciaal [[Verenigde Naties|VN]]-[[gezant]] - [[Irak]]', '| website         = http://www.parlement.com/9291000/bio/02807', '']\n",
      "['Infobox rivier', '| afbeelding = Location Amstel with Drechtkanaal.PNG', '| onderschrift = Locatie van de Amstel op de kaart van Nederland', '| naam= Amstel', '| lengte = 31', '| hoogte=', '| debiet=', '| oppervlakte=', '| oorsprong = [[Aarkanaal]]', '| uitmonding= [[Amsterdam]]', '| stroomtdoor= [[Noord-Holland]]', '| afbeelding2=Amsterdam Amstel 20041105.jpg', '| onderschrift2 = Luchtfoto Amstel bij Amsterdam, gezien van zuid naar noord', '| afbeelding3 = Amstelveen Oostermeer 2005 07 12.JPG', '| onderschrift3 = Oostermeer aan de Amstel bij [[Amstelveen]]', '']\n",
      "['Infobox beursindex', '| beursindex = AEX ,', '| afkorting voor = Amsterdam Exchange indeX', '| oprichting = [[4 maart]] [[1983]]', '| startwaarde = 100 punten<ref>100 punten in guldens, na overschakeling op de euro in 1999 omgerekend een startwaarde van 45,38</ref>', '| actuele stand = 300.03', '| beurs = [[Euronext]]', '| locatie = Amsterdam', '| fondsenaantal = 25', '| marktkapitalisatie = ', '| soort = Nationale index', '| methode = [[Marktwaardegewogen index|Marktwaarde gewogen]]', '| herweging = Maart, september', '| incl. dividend = Nee', '| hoofdfondsen = [[Royal Dutch Shell]], [[Unilever]]', '| website = [http://www.euronext.com/trader/summarizedmarket/0,5372,1732_6868,00.html?selectedMep=2&local=1732&channelId=0&isinCode=NL0000000107&idInstrument=15520 Website AEX]', '']\n",
      "['Infobox filosoof', '| naam           = Aristoteles<br />Ἀριστοτέλης', \"| afbeelding     = Busto di Aristotele conservato a Palazzo Altaemps, Roma. Foto di Giovanni Dall'Orto.jpg\", '| onderschrift   = Aristoteles', '| volledige naam = Aristoteles', '| geboren        = [[Stageira]], [[384 v.Chr.]]', '| overleden      = [[Chalkis (Euboea)|Chalkis]], [[322 v.Chr.]]', '| land           = [[Polis (stad)|Polis]] [[Oude Athene| Athene]], [[Macedonië (oudheid)|Macedonië]]', '| functie        = [[filosoof]]', '| stroming       = [[antieke filosofie]]', '| reactie op     = ', '| beïnvloed door = [[Socrates (filosoof)|Socrates]], [[Plato]]', '| beïnvloedde    = de gehele westerse filosofie', '| partij         = ', '| religie        = ', '| handtekening   = ', '| website        = ', '']\n",
      "['Infobox land plus', '| vlag = [[Bestand:Flag of Afghanistan.svg|120px|Vlag van Afghanistan]]<br /><small>([[Vlag van Afghanistan|Details]])</small>', '| wapen = [[Bestand:Emblem of Afghanistan.svg|120px|Wapen van Afghanistan]]<br /><small>([[Wapen van Afghanistan|Details]])</small>', \"| naaminlandstaal = د افغانستان اسلامي جمهوریت<br />''Da Afghanistan Islami Dawlat''<br/>جمهوری اسلامی افغانستان<br/>''Jomhūrī-ye Eslāmī-ye Afġānestān''\", '| regeringsvorm = [[Islamitische republiek]] <br /> [[Presidentiële republiek]] met een [[presidentieel systeem]] en een [[meerpartijenstelsel]] (democratie)', '| locatiekaart = LocationAfghanistan.svg', '| talen = [[Pasjtoe]], [[Perzisch]]', '| religie = [[Soennisme]] (80%), [[sjiïsme]] (19%)<ref name=people>']\n",
      "['Infobox zee', '| naam        = Atlantische Oceaan', '| zee         = ', '| afbeelding  = Atlantic Ocean.png', '| locatie     = tussen [[Amerika (continent)|Amerika]] en [[Europa (werelddeel)|Europa]]/[[Afrika]]', '| km2         = 82 362 000 km²', '| diepte      = 8605', '| dieptegem   = 3926', '| afbeelding2 = Atlantic_Ocean_surface.jpg', '| onderschrift2= Reliëfkaart van de Atlantische Oceaan', '']\n",
      "['Infobox hemellichaam', '| naam                 = Aarde', '| afbeelding           = Earth Eastern Hemisphere.jpg', '| onderschrift         = Blik op het [[Oostelijk halfrond]] met [[India]] (midden), het Arabisch Schiereiland ([[Saoedi-Arabië]]) en [[Afrika]] (links), de [[Indische Oceaan]] (onder), [[Australië (continent)|Australië]] (rechtsonderaan) en [[Azië]] (boven en rechts).', '| symbool              = Earth symbol.svg', '| type                 = [[Planeet]]<br />[[Aardse planeet]]', '| overig               = [[Wereld (Aarde)|Wereld]], Sol III, Tellus, Terra', '| aantalmanen          = 1', '| omtrek               = 40 075 [[kilometer|km]] (equatoriaal)', '| diameter             = 12 756 [[kilometer|km]]', '| massa                = ']\n",
      "['Infobox land plus', \"| naaminlandstaal = Principat d'Andorra\", '| vlag            = [[Bestand:Flag of Andorra.svg|125px|Vlag van Andorra]]<br /><small>([[Vlag van Andorra|Details]])</small>', '| wapen           = [[Bestand:Coat of arms of Andorra.svg|100px]]<br /><small>([[Wapen van Andorra|Details]])</small>', '| locatiekaart    = Location Andorra Europe.png', '| talen           = [[Catalaans (taal)|Catalaans]]', '| hoofdstad       = [[Andorra la Vella]]', '| religie         = [[Rooms-katholieke Kerk|Katholicisme]]', '| regeringsvorm   = [[Constitutionele monarchie|Constitutioneel covorstendom]]<br />[[Parlementaire democratie]]', '| staatshoofd     = [[Joan Enric Vives i Sicília]] en [[François Hollande]]', '| regeringsleider = [[Antoni Martí]]', '| pctwater        = -', '| munteenheid     = [[Euro]]', '| valutacode      = EUR', '| tijdzone        = [[UTC+1|+1]] (zomer [[UTC+2|+2]])', \"| volkslied       = ''[[El Gran Carlemany]]'' ([[Catalaans (taal)|Catalaans]]: ''De grote Karel de Grote'')\", '| feestdag        = [[8 september]]', '| tld             = ad', '| landcode        = AND', '| tel             = <tt>+376</tt>', '| Voor1           = Spaanse Mark', '| Vlag_Voor1      =', \"| Ontstaan        = '''± 800'''\", '| CIAkaart        = Andorramap.png', '| portaal         = Andorra', '']\n",
      "['Infobox land plus', \"| naaminlandstaal =الجمهورية الجزائرية <br /> الديمقراطية الشعبية<br /><small>al-djoemhoeriyya al-djaza'iriyya <br />al-dimoeqratiyya al-sha'abiyya</small>\", '| vlag                    = [[Bestand:Flag of Algeria.svg|125px|border|Vlag van Algerije]]', '| vlagartikel             = Vlag van Algerije', '| wapen                   = [[Bestand:Seal of Algeria.svg|90px|Wapen van Algerije]]', '| wapenartikel            = Embleem van Algerije', '| locatiekaart            = LocationAlgeria.svg', '| talen                   = [[Arabisch]]<ref>Het [[Berbertalen|Berbers]] (Tamazight) is sinds 2002 een zogenaamde nationale taal. Ondanks dat het [[Frans]] door veel Algerijnen wordt verstaan en gesproken, heeft het geen officiële status.</ref>', '| hoofdstad               = [[Algiers]]', '| religie                 = [[Soennisme|Islam]] 99%, [[Rooms-katholieke Kerk|Katholicisme]] 1%', '| regeringsvorm           = [[Presidentiële republiek]] met een [[semipresidentieel systeem]] en een [[meerpartijenstelsel]] )', '| staatshoofd             = [[Abdelaziz Bouteflika]]', '| regeringsleider         = [[Abdelmalek Sellal]]', '| pctwater                = -', '| munteenheid             = [[Algerijnse dinar]]', '| valutacode              = DZD', '| tijdzone                = +1', '| volkslied               = [[Kassaman]]', '| levensverwachting man   = [[74 jaar]]', '| levensverwachting vrouw = [[76 jaar]]', '| feestdag                = [[1 november]] ([[1954]])<small> (dag van de revolutie)</small>', '| tld                     = dz', '| landcode                = DZA', '| tel                     = 213', \"| Ontstaan                = '''1962''' ([[Algerijnse Onafhankelijkheidsoorlog|Algerijnse Oorlog]])\", '| Voor1                   = Frans-Algerije', '| Vlag_Voor1              = Flag of France.svg', '| CIAkaart                = Algeria CIA map.png', '']\n",
      "['Infobox programmeertaal', '| naam = AWK', '| logo = ', '| extensies = ', '| paradigma = [[Scripttaal]]', '| jaar = 1977', '| ontwerper = [[Alfred Aho]], [[Peter Weinberger]], [[Brian Kernighan]]', '| ontwikkelaar = ', '| versie = ', '| typesystem = ', '| implementaties = ', '| dialecten = ', '| beinvloed = [[C (programmeertaal)|C]], [[SNOBOL]], [[Shell_van_besturingssysteem#Bourne-shell_.28sh.29|Bourne-shell]]', '| invloed = [[Perl (programmeertaal)|Perl]], [[Shell_van_besturingssysteem#Korn-shell_.28ksh.29|Korn-shell]]', '| besturingssysteem = [[Multiplatform]]', '| licentie = ', '| website = [http://www.cs.bell-labs.com/cm/cs/awkbook/index.html Officiële website]', '']\n",
      "['Infobox aandoening', '| naam           = Aids', '| afbeelding     = Red_ribbon.png', '| caption        = Het rode lint is het symbool voor de internationale bestrijding van hiv en aids', '| afbeeldingbreedte= 120', '| DiseasesDB     = 5938', '| ICD10          = ']\n",
      "['Infobox persoon', '| naam           = Ada Lovelace ', '| afbeelding     =  Ada Lovelace portrait.jpg', '| onderschrift   = Ada Byron King, Lady Lovelace, 1938', '| volledigenaam  = Augusta Ada Byron', '| geboorteplaats = [[Londen]], Engeland  ', '| geboortedatum  = 10 december 1815', '| sterfplaats    = [[Marylebone]], Londen, Engeland', '| sterfdatum     = 27 november 1852 (36 jaar)', '| nationaliteit  = [[Verenigd Koninkrijk|Brits]] ', '| beroep         = ', '| bekendvan      = ontwerpster van het eerste computerprogramma', '| religie        = ', '| politiek       = ', '| zieook         = ', '| website        = ', '| handtekening   = ', '| portaal        = ', '']\n"
     ]
    }
   ],
   "source": [
    "#dict van dicts, {\"page\":{\"Subject\":_sub_, \"Predicate\":_pred_, \"Obj\":_obj_}}???\n",
    "import requests\n",
    "import json\n",
    "import re\n",
    "from bs4 import BeautifulSoup\n",
    "url = 'http://maartenmarx.nl/teaching/KennisSystemen/Assignments/NLWikipedia/small.xml'\n",
    "r = requests.get(url) \n",
    "content = r.content\n",
    "content = content.decode('UTF-8')\n",
    "soup = BeautifulSoup(content, 'xml')\n",
    "text = soup.get_text()\n",
    "#print(text)\n",
    "better_text = re.split(r'\\n', text)\n",
    "better_text = re.split('{{', text)\n",
    "#print(better_text)\n",
    "info_text = []\n",
    "for paragraphs in better_text:\n",
    "    if paragraphs.startswith('Info'):\n",
    "        infobox = re.split('}}', paragraphs)[0]\n",
    "        infobox = re.split(r'\\n', infobox)\n",
    "        for info in infobox:\n",
    "            \n",
    "        print(infobox)\n",
    "        info_text.append(bits[0])\n",
    "        \n",
    "\n"
   ]
  },
  {
   "cell_type": "code",
   "execution_count": null,
   "metadata": {
    "collapsed": true
   },
   "outputs": [],
   "source": [
    " "
   ]
  },
  {
   "cell_type": "code",
   "execution_count": null,
   "metadata": {
    "collapsed": true
   },
   "outputs": [],
   "source": []
  },
  {
   "cell_type": "code",
   "execution_count": null,
   "metadata": {
    "collapsed": true
   },
   "outputs": [],
   "source": []
  }
 ],
 "metadata": {
  "kernelspec": {
   "display_name": "Python 3",
   "language": "python",
   "name": "python3"
  },
  "language_info": {
   "codemirror_mode": {
    "name": "ipython",
    "version": 3
   },
   "file_extension": ".py",
   "mimetype": "text/x-python",
   "name": "python",
   "nbconvert_exporter": "python",
   "pygments_lexer": "ipython3",
   "version": "3.4.3"
  }
 },
 "nbformat": 4,
 "nbformat_minor": 0
}
